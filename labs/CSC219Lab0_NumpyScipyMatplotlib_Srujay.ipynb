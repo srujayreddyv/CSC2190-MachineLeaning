{
  "nbformat": 4,
  "nbformat_minor": 0,
  "metadata": {
    "colab": {
      "provenance": [],
      "authorship_tag": "ABX9TyOAuCSGMx9s2VzpYBx+dWr8",
      "include_colab_link": true
    },
    "kernelspec": {
      "name": "python3",
      "display_name": "Python 3"
    },
    "language_info": {
      "name": "python"
    }
  },
  "cells": [
    {
      "cell_type": "markdown",
      "metadata": {
        "id": "view-in-github",
        "colab_type": "text"
      },
      "source": [
        "<a href=\"https://colab.research.google.com/github/srujayreddyv/CSUS-CSC219-MachineLeaning/blob/main/labs/CSC219Lab0_NumpyScipyMatplotlib_Srujay.ipynb\" target=\"_parent\"><img src=\"https://colab.research.google.com/assets/colab-badge.svg\" alt=\"Open In Colab\"/></a>"
      ]
    },
    {
      "cell_type": "markdown",
      "source": [
        "#CSC 219 Machine Learning (Fall 2023)\n"
      ],
      "metadata": {
        "id": "9Nt5J2cf0xz4"
      }
    },
    {
      "cell_type": "markdown",
      "source": [
        "#Lab 0: Numpy, Scipy and Matplotlib"
      ],
      "metadata": {
        "id": "Zvjchvti1tTz"
      }
    },
    {
      "cell_type": "markdown",
      "source": [
        "##1 Numpy\n",
        "The `numpy` package (module) is used in almost all numerical computation using Python. It is a package that provide high-performance vector, matrix and higher-dimensional data structures for Python. It is implemented in C and Fortran so when calculations are vectorized (formulated with vectors and matrices), performance is very good.\n",
        "\n",
        "To use `numpy` first import the module:"
      ],
      "metadata": {
        "id": "FXVStsyx10l1"
      }
    },
    {
      "cell_type": "code",
      "execution_count": null,
      "metadata": {
        "id": "RpdLMS6N0l6Z"
      },
      "outputs": [],
      "source": [
        "import numpy as np  # np is the most common import name for numpy"
      ]
    },
    {
      "cell_type": "markdown",
      "source": [
        "In the numpy package the terminology used for vectors, matrices and higher-dimensional data sets is array."
      ],
      "metadata": {
        "id": "kanzLsez2AnZ"
      }
    },
    {
      "cell_type": "markdown",
      "source": [
        "##1.1 Creating numpy arrays (vectors or matrices)¶\n",
        "There are a number of ways to initialize new numpy arrays, for example from\n",
        "\n",
        "a Python list or tuples\n",
        "*   using functions that are dedicated to generating numpy arrays, such as arange,\n",
        "*   linspace, etc.\n",
        "*   reading data from files\n"
      ],
      "metadata": {
        "id": "i_qga9cJ2FG3"
      }
    },
    {
      "cell_type": "markdown",
      "source": [
        "\n",
        "### 1.1.1 From Lists\n",
        "For example, to create new vector and matrix arrays from Python lists we can use the numpy.array function."
      ],
      "metadata": {
        "id": "iROuRKBw2hEA"
      }
    },
    {
      "cell_type": "code",
      "source": [
        "# a vector: the argument to the array function is a Python list\n",
        "v = np.array([1, 2, 3, 4])\n",
        "v"
      ],
      "metadata": {
        "colab": {
          "base_uri": "https://localhost:8080/"
        },
        "id": "haX5OGWw2BSp",
        "outputId": "36a1ff8d-d7bd-4b25-90b2-a61fa2bf2f77"
      },
      "execution_count": null,
      "outputs": [
        {
          "output_type": "execute_result",
          "data": {
            "text/plain": [
              "array([1, 2, 3, 4])"
            ]
          },
          "metadata": {},
          "execution_count": 2
        }
      ]
    },
    {
      "cell_type": "code",
      "source": [
        "# a matrix (or better a 2d array): the argument to the array function is a nested Python list\n",
        "M = np.array([[1, 2], [3, 4]])\n",
        "M"
      ],
      "metadata": {
        "colab": {
          "base_uri": "https://localhost:8080/"
        },
        "id": "j_09fahH2sGk",
        "outputId": "5017b578-f799-43b6-a36c-438e89d6db39"
      },
      "execution_count": null,
      "outputs": [
        {
          "output_type": "execute_result",
          "data": {
            "text/plain": [
              "array([[1, 2],\n",
              "       [3, 4]])"
            ]
          },
          "metadata": {},
          "execution_count": 3
        }
      ]
    },
    {
      "cell_type": "markdown",
      "source": [
        "The `v` and `M` objects are both of the type `ndarray` that the `numpy` module provides."
      ],
      "metadata": {
        "id": "1qfrY2Xq2uIx"
      }
    },
    {
      "cell_type": "code",
      "source": [
        "type(v), type(M)"
      ],
      "metadata": {
        "colab": {
          "base_uri": "https://localhost:8080/"
        },
        "id": "bFitjwMO20D1",
        "outputId": "6381225c-3060-4e3e-f615-2ef906aa691a"
      },
      "execution_count": null,
      "outputs": [
        {
          "output_type": "execute_result",
          "data": {
            "text/plain": [
              "(numpy.ndarray, numpy.ndarray)"
            ]
          },
          "metadata": {},
          "execution_count": 4
        }
      ]
    },
    {
      "cell_type": "markdown",
      "source": [
        "The difference between the `v` and `M` arrays is only their shapes. We can get information about the shape of an array by using the `ndarray.shape` property."
      ],
      "metadata": {
        "id": "D0oAFljc250A"
      }
    },
    {
      "cell_type": "code",
      "source": [
        "v.shape"
      ],
      "metadata": {
        "colab": {
          "base_uri": "https://localhost:8080/"
        },
        "id": "u0LaK3Vw24lU",
        "outputId": "7b78aab3-736f-48c5-d7a8-9c6c749a0573"
      },
      "execution_count": null,
      "outputs": [
        {
          "output_type": "execute_result",
          "data": {
            "text/plain": [
              "(4,)"
            ]
          },
          "metadata": {},
          "execution_count": 5
        }
      ]
    },
    {
      "cell_type": "code",
      "source": [
        "M.shape"
      ],
      "metadata": {
        "colab": {
          "base_uri": "https://localhost:8080/"
        },
        "id": "zjgU5R513EK0",
        "outputId": "0027aa72-344c-4608-dcd1-70e31021a925"
      },
      "execution_count": null,
      "outputs": [
        {
          "output_type": "execute_result",
          "data": {
            "text/plain": [
              "(2, 2)"
            ]
          },
          "metadata": {},
          "execution_count": 6
        }
      ]
    },
    {
      "cell_type": "code",
      "source": [
        "v.size"
      ],
      "metadata": {
        "colab": {
          "base_uri": "https://localhost:8080/"
        },
        "id": "EhIRSfjh3G6z",
        "outputId": "8eed32a8-9325-47cd-ba03-6bfd1fe28803"
      },
      "execution_count": null,
      "outputs": [
        {
          "output_type": "execute_result",
          "data": {
            "text/plain": [
              "4"
            ]
          },
          "metadata": {},
          "execution_count": 7
        }
      ]
    },
    {
      "cell_type": "code",
      "source": [
        "M.size"
      ],
      "metadata": {
        "colab": {
          "base_uri": "https://localhost:8080/"
        },
        "id": "y125PDWx3IoL",
        "outputId": "1bfdab27-7438-4b04-fb5f-6a4d62d3b4af"
      },
      "execution_count": null,
      "outputs": [
        {
          "output_type": "execute_result",
          "data": {
            "text/plain": [
              "4"
            ]
          },
          "metadata": {},
          "execution_count": 8
        }
      ]
    },
    {
      "cell_type": "markdown",
      "source": [
        "***So far the numpy.ndarray looks much like a Python list.\n",
        "\n",
        "Why not simply use Python lists for computations instead of creating a new array type?\n",
        "There are several reasons:\n",
        "*   Numpy arrays are memory efficient and run much faster than Python lists in order to support big data.\n",
        "*   Python lists DO NOT support mathematical functions such as matrix and dot multiplications, etc. Implementating such functions for Python lists would be very inefficient.\n",
        "*   Python lists are very general. They can contain any kind of object. * Numpy arrays are homogeneous. The type of the elements is determined when array is created.***\n",
        "\n",
        "Using the dtype (data type) property of an ndarray, we can see what type each element of an array has:"
      ],
      "metadata": {
        "id": "am93Mv5O3DSF"
      }
    },
    {
      "cell_type": "code",
      "source": [
        "M.dtype"
      ],
      "metadata": {
        "colab": {
          "base_uri": "https://localhost:8080/"
        },
        "id": "OXaqjgN23Y9w",
        "outputId": "d7b4d32f-cc34-46aa-ce59-fcc805e5ac50"
      },
      "execution_count": null,
      "outputs": [
        {
          "output_type": "execute_result",
          "data": {
            "text/plain": [
              "dtype('int64')"
            ]
          },
          "metadata": {},
          "execution_count": 9
        }
      ]
    },
    {
      "cell_type": "code",
      "source": [
        "M[0,0] = \"hello\""
      ],
      "metadata": {
        "colab": {
          "base_uri": "https://localhost:8080/",
          "height": 179
        },
        "id": "L8n2e7Im3cW3",
        "outputId": "2e554cf6-c6f1-4381-eda4-47e8142e09c2"
      },
      "execution_count": null,
      "outputs": [
        {
          "output_type": "error",
          "ename": "ValueError",
          "evalue": "ignored",
          "traceback": [
            "\u001b[0;31m---------------------------------------------------------------------------\u001b[0m",
            "\u001b[0;31mValueError\u001b[0m                                Traceback (most recent call last)",
            "\u001b[0;32m<ipython-input-10-e1f336250f69>\u001b[0m in \u001b[0;36m<cell line: 1>\u001b[0;34m()\u001b[0m\n\u001b[0;32m----> 1\u001b[0;31m \u001b[0mM\u001b[0m\u001b[0;34m[\u001b[0m\u001b[0;36m0\u001b[0m\u001b[0;34m,\u001b[0m\u001b[0;36m0\u001b[0m\u001b[0;34m]\u001b[0m \u001b[0;34m=\u001b[0m \u001b[0;34m\"hello\"\u001b[0m\u001b[0;34m\u001b[0m\u001b[0;34m\u001b[0m\u001b[0m\n\u001b[0m",
            "\u001b[0;31mValueError\u001b[0m: invalid literal for int() with base 10: 'hello'"
          ]
        }
      ]
    },
    {
      "cell_type": "markdown",
      "source": [
        "If we want, we can explicitly define the type of the array data when we create it, using the dtype keyword argument:"
      ],
      "metadata": {
        "id": "BT-p7NhQ3l3D"
      }
    },
    {
      "cell_type": "code",
      "source": [
        "M = np.array([[1, 2], [3, 4]], dtype='float32')\n",
        "M"
      ],
      "metadata": {
        "colab": {
          "base_uri": "https://localhost:8080/"
        },
        "id": "aGp2-c_P3kgF",
        "outputId": "41f3ce94-7609-4e3b-b49e-11ebe97c855b"
      },
      "execution_count": null,
      "outputs": [
        {
          "output_type": "execute_result",
          "data": {
            "text/plain": [
              "array([[1., 2.],\n",
              "       [3., 4.]], dtype=float32)"
            ]
          },
          "metadata": {},
          "execution_count": 11
        }
      ]
    },
    {
      "cell_type": "markdown",
      "source": [
        "\n",
        "Common type that can be used with dtype are: int, float, complex, bool, object, etc.\n",
        "\n",
        "We can also explicitly define the bit size of the data types, for example: int64, int16, float128, complex128."
      ],
      "metadata": {
        "id": "8QbK4Wm132SV"
      }
    },
    {
      "cell_type": "markdown",
      "source": [
        "### 1.1.2 Using functions to generate arrays¶\n",
        "For larger arrays it is inpractical to initialize the data manually, using explicit python lists. Instead we can use one of the many functions in numpy that generates arrays of different forms. Some of the more common are:"
      ],
      "metadata": {
        "id": "ZGe91DgP33th"
      }
    },
    {
      "cell_type": "markdown",
      "source": [
        "####arrange"
      ],
      "metadata": {
        "id": "AXqovgKG3-Qr"
      }
    },
    {
      "cell_type": "code",
      "source": [
        "# create a range\n",
        "\n",
        "x = np.arange(0, 10, 1) # arguments: start, stop, step\n",
        "x"
      ],
      "metadata": {
        "colab": {
          "base_uri": "https://localhost:8080/"
        },
        "id": "jgV9hXKy4FIo",
        "outputId": "49e692fa-43ac-454a-dec3-f261ad8d6ca9"
      },
      "execution_count": null,
      "outputs": [
        {
          "output_type": "execute_result",
          "data": {
            "text/plain": [
              "array([0, 1, 2, 3, 4, 5, 6, 7, 8, 9])"
            ]
          },
          "metadata": {},
          "execution_count": 12
        }
      ]
    },
    {
      "cell_type": "code",
      "source": [
        "x = np.arange(-1, 1, 0.1)\n",
        "x"
      ],
      "metadata": {
        "colab": {
          "base_uri": "https://localhost:8080/"
        },
        "id": "WHxlpYbG4Iqx",
        "outputId": "1ceeabcd-07ce-45b8-b3da-f159eaa7619f"
      },
      "execution_count": null,
      "outputs": [
        {
          "output_type": "execute_result",
          "data": {
            "text/plain": [
              "array([-1.00000000e+00, -9.00000000e-01, -8.00000000e-01, -7.00000000e-01,\n",
              "       -6.00000000e-01, -5.00000000e-01, -4.00000000e-01, -3.00000000e-01,\n",
              "       -2.00000000e-01, -1.00000000e-01, -2.22044605e-16,  1.00000000e-01,\n",
              "        2.00000000e-01,  3.00000000e-01,  4.00000000e-01,  5.00000000e-01,\n",
              "        6.00000000e-01,  7.00000000e-01,  8.00000000e-01,  9.00000000e-01])"
            ]
          },
          "metadata": {},
          "execution_count": 13
        }
      ]
    },
    {
      "cell_type": "markdown",
      "source": [
        "####Linespace and logspace"
      ],
      "metadata": {
        "id": "oR9EiFZD4LV6"
      }
    },
    {
      "cell_type": "code",
      "source": [
        "# using linspace, both end points ARE included\n",
        "np.linspace(0, 10, 25)"
      ],
      "metadata": {
        "colab": {
          "base_uri": "https://localhost:8080/"
        },
        "id": "UmKAYfJw4IoP",
        "outputId": "69983a56-a533-4744-f8a3-e2a52b05bf42"
      },
      "execution_count": null,
      "outputs": [
        {
          "output_type": "execute_result",
          "data": {
            "text/plain": [
              "array([ 0.        ,  0.41666667,  0.83333333,  1.25      ,  1.66666667,\n",
              "        2.08333333,  2.5       ,  2.91666667,  3.33333333,  3.75      ,\n",
              "        4.16666667,  4.58333333,  5.        ,  5.41666667,  5.83333333,\n",
              "        6.25      ,  6.66666667,  7.08333333,  7.5       ,  7.91666667,\n",
              "        8.33333333,  8.75      ,  9.16666667,  9.58333333, 10.        ])"
            ]
          },
          "metadata": {},
          "execution_count": 14
        }
      ]
    },
    {
      "cell_type": "code",
      "source": [
        "np.logspace(0, 10, 10, base=10)"
      ],
      "metadata": {
        "colab": {
          "base_uri": "https://localhost:8080/"
        },
        "id": "FPa__cOF4RYN",
        "outputId": "3d2b3d32-1aaf-4f22-ffda-281162bf9e50"
      },
      "execution_count": null,
      "outputs": [
        {
          "output_type": "execute_result",
          "data": {
            "text/plain": [
              "array([1.00000000e+00, 1.29154967e+01, 1.66810054e+02, 2.15443469e+03,\n",
              "       2.78255940e+04, 3.59381366e+05, 4.64158883e+06, 5.99484250e+07,\n",
              "       7.74263683e+08, 1.00000000e+10])"
            ]
          },
          "metadata": {},
          "execution_count": 15
        }
      ]
    },
    {
      "cell_type": "markdown",
      "source": [
        "## 1.2 Manipulating arrays"
      ],
      "metadata": {
        "id": "8vqPKqKh4UM7"
      }
    },
    {
      "cell_type": "markdown",
      "source": [
        "### 1.2.1 Indexing\n",
        "We can index elements in an array using the square bracket and indices:"
      ],
      "metadata": {
        "id": "wpxzAUEJ4ql2"
      }
    },
    {
      "cell_type": "code",
      "source": [
        "v = np.array([1, 2, 3, 4])\n",
        "\n",
        "# v is a vector, and has only one dimension, taking one index\n",
        "v[0]"
      ],
      "metadata": {
        "colab": {
          "base_uri": "https://localhost:8080/"
        },
        "id": "jzTleWtl4vyE",
        "outputId": "0a21e6e3-c014-4b9c-91f9-98349095c37d"
      },
      "execution_count": null,
      "outputs": [
        {
          "output_type": "execute_result",
          "data": {
            "text/plain": [
              "1"
            ]
          },
          "metadata": {},
          "execution_count": 16
        }
      ]
    },
    {
      "cell_type": "code",
      "source": [
        "M = np.array([[1, 2], [3, 4]])\n",
        "\n",
        "# M is a matrix, or a 2 dimensional array, taking two indices\n",
        "M[1, 1]"
      ],
      "metadata": {
        "colab": {
          "base_uri": "https://localhost:8080/"
        },
        "id": "GFjNKxPy44EI",
        "outputId": "0458ab95-f921-4a76-ce0a-f05ed9088a6e"
      },
      "execution_count": null,
      "outputs": [
        {
          "output_type": "execute_result",
          "data": {
            "text/plain": [
              "4"
            ]
          },
          "metadata": {},
          "execution_count": 17
        }
      ]
    },
    {
      "cell_type": "code",
      "source": [
        "M"
      ],
      "metadata": {
        "colab": {
          "base_uri": "https://localhost:8080/"
        },
        "id": "FqsUl13j45u7",
        "outputId": "d288cc82-1adb-4e9a-bf8f-e382e0f74219"
      },
      "execution_count": null,
      "outputs": [
        {
          "output_type": "execute_result",
          "data": {
            "text/plain": [
              "array([[1, 2],\n",
              "       [3, 4]])"
            ]
          },
          "metadata": {},
          "execution_count": 18
        }
      ]
    },
    {
      "cell_type": "code",
      "source": [
        "M[1, :] # row 1"
      ],
      "metadata": {
        "colab": {
          "base_uri": "https://localhost:8080/"
        },
        "id": "jKn2glPX48IF",
        "outputId": "ac75503d-4f3b-4032-baa8-644cea3ffda6"
      },
      "execution_count": null,
      "outputs": [
        {
          "output_type": "execute_result",
          "data": {
            "text/plain": [
              "array([3, 4])"
            ]
          },
          "metadata": {},
          "execution_count": 19
        }
      ]
    },
    {
      "cell_type": "code",
      "source": [
        "M[:, 1] # column 1"
      ],
      "metadata": {
        "colab": {
          "base_uri": "https://localhost:8080/"
        },
        "id": "akXgv35F48Gc",
        "outputId": "db544b8a-ab20-42d1-c822-d1d9548bbbc5"
      },
      "execution_count": null,
      "outputs": [
        {
          "output_type": "execute_result",
          "data": {
            "text/plain": [
              "array([2, 4])"
            ]
          },
          "metadata": {},
          "execution_count": 20
        }
      ]
    },
    {
      "cell_type": "code",
      "source": [
        "M[0, 0] = 10\n",
        "M"
      ],
      "metadata": {
        "colab": {
          "base_uri": "https://localhost:8080/"
        },
        "id": "_SciLpnx4_xz",
        "outputId": "dc9ba6ab-ceea-4c3c-a60a-622e7cfa5084"
      },
      "execution_count": null,
      "outputs": [
        {
          "output_type": "execute_result",
          "data": {
            "text/plain": [
              "array([[10,  2],\n",
              "       [ 3,  4]])"
            ]
          },
          "metadata": {},
          "execution_count": 21
        }
      ]
    },
    {
      "cell_type": "code",
      "source": [
        "# also works for rows and columns\n",
        "M[0, :] = 0\n",
        "M[:, 1] = -1"
      ],
      "metadata": {
        "id": "HFk62jBF5Dka"
      },
      "execution_count": null,
      "outputs": []
    },
    {
      "cell_type": "code",
      "source": [
        "M"
      ],
      "metadata": {
        "colab": {
          "base_uri": "https://localhost:8080/"
        },
        "id": "8AwfqoNU5FyC",
        "outputId": "635638e9-47bd-4735-9e4d-9ac915d735bd"
      },
      "execution_count": null,
      "outputs": [
        {
          "output_type": "execute_result",
          "data": {
            "text/plain": [
              "array([[ 0, -1],\n",
              "       [ 3, -1]])"
            ]
          },
          "metadata": {},
          "execution_count": 23
        }
      ]
    },
    {
      "cell_type": "markdown",
      "source": [
        "### 1.2.2 Index slicing\n",
        "\n",
        "Index slicing is the technical name for the syntax M[start:end:step] to extract part of an array:"
      ],
      "metadata": {
        "id": "gl2ZAxUL5Iny"
      }
    },
    {
      "cell_type": "code",
      "source": [
        "A = np.array([1,2,3,4,5])\n",
        "A"
      ],
      "metadata": {
        "colab": {
          "base_uri": "https://localhost:8080/"
        },
        "id": "NXH-4SzE5FwL",
        "outputId": "ea1c1b03-f3fb-424f-9115-9dc75bf6653c"
      },
      "execution_count": null,
      "outputs": [
        {
          "output_type": "execute_result",
          "data": {
            "text/plain": [
              "array([1, 2, 3, 4, 5])"
            ]
          },
          "metadata": {},
          "execution_count": 24
        }
      ]
    },
    {
      "cell_type": "code",
      "source": [
        "A[1:3]"
      ],
      "metadata": {
        "colab": {
          "base_uri": "https://localhost:8080/"
        },
        "id": "ssyOb7B_5Rzn",
        "outputId": "8d5f9c79-5f43-49ff-f949-fa7dc90e4083"
      },
      "execution_count": null,
      "outputs": [
        {
          "output_type": "execute_result",
          "data": {
            "text/plain": [
              "array([2, 3])"
            ]
          },
          "metadata": {},
          "execution_count": 25
        }
      ]
    },
    {
      "cell_type": "markdown",
      "source": [
        "#### Array slices are mutable\n",
        "If they are assigned a new value the original array from which the slice was extracted is modified:"
      ],
      "metadata": {
        "id": "KY0OsjwF5Up3"
      }
    },
    {
      "cell_type": "code",
      "source": [
        "A[1:3] = [-2, -3]\n",
        "\n",
        "A"
      ],
      "metadata": {
        "colab": {
          "base_uri": "https://localhost:8080/"
        },
        "id": "NywnD7lF5VYQ",
        "outputId": "d1fbfadc-cebf-4d72-a063-de3058566c4e"
      },
      "execution_count": null,
      "outputs": [
        {
          "output_type": "execute_result",
          "data": {
            "text/plain": [
              "array([ 1, -2, -3,  4,  5])"
            ]
          },
          "metadata": {},
          "execution_count": 26
        }
      ]
    },
    {
      "cell_type": "markdown",
      "source": [
        "We can omit any of the three parameters in M[start:end:step]:"
      ],
      "metadata": {
        "id": "u6nym1045ZsL"
      }
    },
    {
      "cell_type": "code",
      "source": [
        "A[::] # lower, upper, step all take the default values"
      ],
      "metadata": {
        "colab": {
          "base_uri": "https://localhost:8080/"
        },
        "id": "mBi_HN2h5aUQ",
        "outputId": "dab24662-9084-4e2e-a742-815f553fbc12"
      },
      "execution_count": null,
      "outputs": [
        {
          "output_type": "execute_result",
          "data": {
            "text/plain": [
              "array([ 1, -2, -3,  4,  5])"
            ]
          },
          "metadata": {},
          "execution_count": 27
        }
      ]
    },
    {
      "cell_type": "code",
      "source": [
        "A[::2] # step is 2, lower and upper defaults to the beginning and end of the array"
      ],
      "metadata": {
        "colab": {
          "base_uri": "https://localhost:8080/"
        },
        "id": "jNE9T8c35eH8",
        "outputId": "b2ed09a5-b4c1-4e05-a55e-659e7f20dbb9"
      },
      "execution_count": null,
      "outputs": [
        {
          "output_type": "execute_result",
          "data": {
            "text/plain": [
              "array([ 1, -3,  5])"
            ]
          },
          "metadata": {},
          "execution_count": 28
        }
      ]
    },
    {
      "cell_type": "code",
      "source": [
        "A[:3] # first three elements"
      ],
      "metadata": {
        "colab": {
          "base_uri": "https://localhost:8080/"
        },
        "id": "VZa-3LM65gWo",
        "outputId": "33ffa160-ea3b-4ddc-dfcd-06b18a859734"
      },
      "execution_count": null,
      "outputs": [
        {
          "output_type": "execute_result",
          "data": {
            "text/plain": [
              "array([ 1, -2, -3])"
            ]
          },
          "metadata": {},
          "execution_count": 29
        }
      ]
    },
    {
      "cell_type": "code",
      "source": [
        "A[3:] # elements from index 3"
      ],
      "metadata": {
        "colab": {
          "base_uri": "https://localhost:8080/"
        },
        "id": "CO1IGkXN5iJ8",
        "outputId": "ce2324eb-5dca-4270-8523-a1a355e25186"
      },
      "execution_count": null,
      "outputs": [
        {
          "output_type": "execute_result",
          "data": {
            "text/plain": [
              "array([4, 5])"
            ]
          },
          "metadata": {},
          "execution_count": 30
        }
      ]
    },
    {
      "cell_type": "markdown",
      "source": [
        "Negative indices counts from the end of the array (positive index from the begining):"
      ],
      "metadata": {
        "id": "XFDi0WT55ljG"
      }
    },
    {
      "cell_type": "code",
      "source": [
        "A = np.array([1, 2, 3, 4, 5])"
      ],
      "metadata": {
        "id": "Cnu_-CEi5iIO"
      },
      "execution_count": null,
      "outputs": []
    },
    {
      "cell_type": "code",
      "source": [
        "A[-1] # the last element in the array"
      ],
      "metadata": {
        "colab": {
          "base_uri": "https://localhost:8080/"
        },
        "id": "rbXCzS0i5qww",
        "outputId": "2ea5d0a5-0a37-4396-d31b-448fae5ed266"
      },
      "execution_count": null,
      "outputs": [
        {
          "output_type": "execute_result",
          "data": {
            "text/plain": [
              "5"
            ]
          },
          "metadata": {},
          "execution_count": 32
        }
      ]
    },
    {
      "cell_type": "code",
      "source": [
        "A[-3:] # the last three elements"
      ],
      "metadata": {
        "colab": {
          "base_uri": "https://localhost:8080/"
        },
        "id": "VgMfQDvi5quF",
        "outputId": "38093699-cf15-4f0f-aa6c-e0f4334b215e"
      },
      "execution_count": null,
      "outputs": [
        {
          "output_type": "execute_result",
          "data": {
            "text/plain": [
              "array([3, 4, 5])"
            ]
          },
          "metadata": {},
          "execution_count": 33
        }
      ]
    },
    {
      "cell_type": "markdown",
      "source": [
        "#### Index slicing works exactly the same way for multidimensional arrays:\n",
        "You may also use an array or list as an index:"
      ],
      "metadata": {
        "id": "xERDzU7Y5lg4"
      }
    },
    {
      "cell_type": "code",
      "source": [
        "A = np.array([[n+m*10 for n in range(5)] for m in range(5)])\n",
        "\n",
        "A   # a matrix"
      ],
      "metadata": {
        "colab": {
          "base_uri": "https://localhost:8080/"
        },
        "id": "rJ4A21OG6tvk",
        "outputId": "26943f9c-bf6c-4b1c-a07c-36f109745197"
      },
      "execution_count": null,
      "outputs": [
        {
          "output_type": "execute_result",
          "data": {
            "text/plain": [
              "array([[ 0,  1,  2,  3,  4],\n",
              "       [10, 11, 12, 13, 14],\n",
              "       [20, 21, 22, 23, 24],\n",
              "       [30, 31, 32, 33, 34],\n",
              "       [40, 41, 42, 43, 44]])"
            ]
          },
          "metadata": {},
          "execution_count": 34
        }
      ]
    },
    {
      "cell_type": "code",
      "source": [
        "row_indices = [1, 2, 3]\n",
        "A[row_indices,:]"
      ],
      "metadata": {
        "colab": {
          "base_uri": "https://localhost:8080/"
        },
        "id": "jezwQZao6xGn",
        "outputId": "59d4a9e6-45d8-4ee7-f403-8a1d9ee6f7e4"
      },
      "execution_count": null,
      "outputs": [
        {
          "output_type": "execute_result",
          "data": {
            "text/plain": [
              "array([[10, 11, 12, 13, 14],\n",
              "       [20, 21, 22, 23, 24],\n",
              "       [30, 31, 32, 33, 34]])"
            ]
          },
          "metadata": {},
          "execution_count": 35
        }
      ]
    },
    {
      "cell_type": "code",
      "source": [
        "col_indices = [1, 2, -1] # remember, index -1 means the last element\n",
        "A[:,col_indices]"
      ],
      "metadata": {
        "colab": {
          "base_uri": "https://localhost:8080/"
        },
        "id": "mbT-mkTv6zck",
        "outputId": "370faefd-7aa8-4900-e08d-97e0b0db9b6c"
      },
      "execution_count": null,
      "outputs": [
        {
          "output_type": "execute_result",
          "data": {
            "text/plain": [
              "array([[ 1,  2,  4],\n",
              "       [11, 12, 14],\n",
              "       [21, 22, 24],\n",
              "       [31, 32, 34],\n",
              "       [41, 42, 44]])"
            ]
          },
          "metadata": {},
          "execution_count": 36
        }
      ]
    },
    {
      "cell_type": "code",
      "source": [
        "# a block from the original array\n",
        "A[1:4, 1:4]"
      ],
      "metadata": {
        "colab": {
          "base_uri": "https://localhost:8080/"
        },
        "id": "7Vs7Es1T64LK",
        "outputId": "7f6cf284-1579-40a1-84e7-aeb4fc0e9750"
      },
      "execution_count": null,
      "outputs": [
        {
          "output_type": "execute_result",
          "data": {
            "text/plain": [
              "array([[11, 12, 13],\n",
              "       [21, 22, 23],\n",
              "       [31, 32, 33]])"
            ]
          },
          "metadata": {},
          "execution_count": 37
        }
      ]
    },
    {
      "cell_type": "markdown",
      "source": [
        "## 1.3 Array-oriented programming\n",
        "Vectorizing code is the key to writing code when handling big data. That means that as much as possible, a program should be written in terms of matrix (vector) operations."
      ],
      "metadata": {
        "id": "sQfzy0_K7OPP"
      }
    },
    {
      "cell_type": "markdown",
      "source": [
        "### 1.3.1 Scalar-array operations\n",
        "We can use the usual arithmetic operators to multiply, add, subtract, and divide arrays with scalar numbers."
      ],
      "metadata": {
        "id": "M6RQ51PS8Ctv"
      }
    },
    {
      "cell_type": "code",
      "source": [
        "v1 = np.arange(0, 5)\n",
        "v1"
      ],
      "metadata": {
        "colab": {
          "base_uri": "https://localhost:8080/"
        },
        "id": "8hvE1lv28dPO",
        "outputId": "58a1c3c8-5f5d-4a99-f364-e578ed7175ee"
      },
      "execution_count": null,
      "outputs": [
        {
          "output_type": "execute_result",
          "data": {
            "text/plain": [
              "array([0, 1, 2, 3, 4])"
            ]
          },
          "metadata": {},
          "execution_count": 38
        }
      ]
    },
    {
      "cell_type": "code",
      "source": [
        "v1 * 2"
      ],
      "metadata": {
        "colab": {
          "base_uri": "https://localhost:8080/"
        },
        "id": "sF4hl1Xz8gSg",
        "outputId": "3d39de1b-a159-4979-8918-bd499848f3b7"
      },
      "execution_count": null,
      "outputs": [
        {
          "output_type": "execute_result",
          "data": {
            "text/plain": [
              "array([0, 2, 4, 6, 8])"
            ]
          },
          "metadata": {},
          "execution_count": 39
        }
      ]
    },
    {
      "cell_type": "code",
      "source": [
        "v1 + 2"
      ],
      "metadata": {
        "colab": {
          "base_uri": "https://localhost:8080/"
        },
        "id": "6co8UfNC8itq",
        "outputId": "ddba9602-c74e-40a2-e8fe-dd4950d84feb"
      },
      "execution_count": null,
      "outputs": [
        {
          "output_type": "execute_result",
          "data": {
            "text/plain": [
              "array([2, 3, 4, 5, 6])"
            ]
          },
          "metadata": {},
          "execution_count": 40
        }
      ]
    },
    {
      "cell_type": "markdown",
      "source": [
        "### 1.3.2 Element-wise array-array operations\n",
        "When we add, subtract, multiply and divide arrays with each other, the default behaviour is element-wise operations:"
      ],
      "metadata": {
        "id": "iXjUoUWF8Gar"
      }
    },
    {
      "cell_type": "code",
      "source": [
        "A"
      ],
      "metadata": {
        "colab": {
          "base_uri": "https://localhost:8080/"
        },
        "id": "EiybWkBV8mEv",
        "outputId": "874545c4-e664-45d3-bb76-e688b43d3456"
      },
      "execution_count": null,
      "outputs": [
        {
          "output_type": "execute_result",
          "data": {
            "text/plain": [
              "array([[ 0,  1,  2,  3,  4],\n",
              "       [10, 11, 12, 13, 14],\n",
              "       [20, 21, 22, 23, 24],\n",
              "       [30, 31, 32, 33, 34],\n",
              "       [40, 41, 42, 43, 44]])"
            ]
          },
          "metadata": {},
          "execution_count": 41
        }
      ]
    },
    {
      "cell_type": "code",
      "source": [
        "A * A # element-wise multiplication"
      ],
      "metadata": {
        "colab": {
          "base_uri": "https://localhost:8080/"
        },
        "id": "0g_srTpx8n0K",
        "outputId": "215b4fe1-857e-4143-fd6f-9d3290df84c8"
      },
      "execution_count": null,
      "outputs": [
        {
          "output_type": "execute_result",
          "data": {
            "text/plain": [
              "array([[   0,    1,    4,    9,   16],\n",
              "       [ 100,  121,  144,  169,  196],\n",
              "       [ 400,  441,  484,  529,  576],\n",
              "       [ 900,  961, 1024, 1089, 1156],\n",
              "       [1600, 1681, 1764, 1849, 1936]])"
            ]
          },
          "metadata": {},
          "execution_count": 42
        }
      ]
    },
    {
      "cell_type": "markdown",
      "source": [
        "### 1.3.3 Matrix Algebra\n",
        "What about matrix mutiplication? We can use the dot function"
      ],
      "metadata": {
        "id": "XXt1vILu8Km2"
      }
    },
    {
      "cell_type": "code",
      "source": [
        "np.dot(A, A)"
      ],
      "metadata": {
        "colab": {
          "base_uri": "https://localhost:8080/"
        },
        "id": "FWO5mS6_-Hpd",
        "outputId": "8de66768-0f98-4d7c-b67a-a48962ea3947"
      },
      "execution_count": null,
      "outputs": [
        {
          "output_type": "execute_result",
          "data": {
            "text/plain": [
              "array([[ 300,  310,  320,  330,  340],\n",
              "       [1300, 1360, 1420, 1480, 1540],\n",
              "       [2300, 2410, 2520, 2630, 2740],\n",
              "       [3300, 3460, 3620, 3780, 3940],\n",
              "       [4300, 4510, 4720, 4930, 5140]])"
            ]
          },
          "metadata": {},
          "execution_count": 43
        }
      ]
    },
    {
      "cell_type": "markdown",
      "source": [
        "### 1.3.4 Basic data analysis using numpy\n",
        "Often it is useful to store datasets in Numpy arrays (matrix). Numpy provides a number of functions to calculate statistics of datasets in arrays."
      ],
      "metadata": {
        "id": "C1QtlqZt8PU2"
      }
    },
    {
      "cell_type": "code",
      "source": [
        "A"
      ],
      "metadata": {
        "colab": {
          "base_uri": "https://localhost:8080/"
        },
        "id": "FSjvWjBG-YQa",
        "outputId": "872481b0-7fba-488a-fdf9-4cf32b65a9f5"
      },
      "execution_count": null,
      "outputs": [
        {
          "output_type": "execute_result",
          "data": {
            "text/plain": [
              "array([[ 0,  1,  2,  3,  4],\n",
              "       [10, 11, 12, 13, 14],\n",
              "       [20, 21, 22, 23, 24],\n",
              "       [30, 31, 32, 33, 34],\n",
              "       [40, 41, 42, 43, 44]])"
            ]
          },
          "metadata": {},
          "execution_count": 44
        }
      ]
    },
    {
      "cell_type": "code",
      "source": [
        "np.shape(A)"
      ],
      "metadata": {
        "colab": {
          "base_uri": "https://localhost:8080/"
        },
        "id": "G25zEeNW-YOz",
        "outputId": "3503457c-ecf9-4825-be05-d0bbdfd90a10"
      },
      "execution_count": null,
      "outputs": [
        {
          "output_type": "execute_result",
          "data": {
            "text/plain": [
              "(5, 5)"
            ]
          },
          "metadata": {},
          "execution_count": 45
        }
      ]
    },
    {
      "cell_type": "markdown",
      "source": [
        "#### 1.3.4.1 mean\n"
      ],
      "metadata": {
        "id": "9wrAtWPM-iTU"
      }
    },
    {
      "cell_type": "code",
      "source": [
        "np.mean(A[:,3])"
      ],
      "metadata": {
        "colab": {
          "base_uri": "https://localhost:8080/"
        },
        "id": "W8HbqS4P-kdR",
        "outputId": "9861d852-7810-446b-cbf5-fdec56780f98"
      },
      "execution_count": null,
      "outputs": [
        {
          "output_type": "execute_result",
          "data": {
            "text/plain": [
              "23.0"
            ]
          },
          "metadata": {},
          "execution_count": 47
        }
      ]
    },
    {
      "cell_type": "markdown",
      "source": [
        "#### 1.3.4.2 standard deviations and variance, min and max"
      ],
      "metadata": {
        "id": "0ZD_licU-uFR"
      }
    },
    {
      "cell_type": "code",
      "source": [
        "np.std(A[:, 3]), np.var(A[:, 3])"
      ],
      "metadata": {
        "colab": {
          "base_uri": "https://localhost:8080/"
        },
        "id": "tai29BL8-vr2",
        "outputId": "9b7b5373-a9ac-4b33-ce62-c9454bd33ba3"
      },
      "execution_count": null,
      "outputs": [
        {
          "output_type": "execute_result",
          "data": {
            "text/plain": [
              "(14.142135623730951, 200.0)"
            ]
          },
          "metadata": {},
          "execution_count": 48
        }
      ]
    },
    {
      "cell_type": "code",
      "source": [
        "# lowest value\n",
        "A[:, 3].min()"
      ],
      "metadata": {
        "colab": {
          "base_uri": "https://localhost:8080/"
        },
        "id": "7taYYSwr-y5h",
        "outputId": "0e9a4024-0c2e-412e-b09e-bb9fbb6951f8"
      },
      "execution_count": null,
      "outputs": [
        {
          "output_type": "execute_result",
          "data": {
            "text/plain": [
              "3"
            ]
          },
          "metadata": {},
          "execution_count": 49
        }
      ]
    },
    {
      "cell_type": "code",
      "source": [
        "# highest value\n",
        "A[:, 3].max()"
      ],
      "metadata": {
        "colab": {
          "base_uri": "https://localhost:8080/"
        },
        "id": "BhLhzQhQ-0vu",
        "outputId": "538e95d0-e12a-4758-8ba9-68d6102d0460"
      },
      "execution_count": null,
      "outputs": [
        {
          "output_type": "execute_result",
          "data": {
            "text/plain": [
              "43"
            ]
          },
          "metadata": {},
          "execution_count": 50
        }
      ]
    },
    {
      "cell_type": "markdown",
      "source": [
        "#### 1.3.4.3 sum, prod"
      ],
      "metadata": {
        "id": "3Ab0XnG6-1_Z"
      }
    },
    {
      "cell_type": "code",
      "source": [
        "# sum up all elements\n",
        "np.sum(A[:, 3])"
      ],
      "metadata": {
        "colab": {
          "base_uri": "https://localhost:8080/"
        },
        "id": "3iL5IdrX-4Ni",
        "outputId": "1c716327-3ca5-4dc6-c9d9-f5fa93436ff9"
      },
      "execution_count": null,
      "outputs": [
        {
          "output_type": "execute_result",
          "data": {
            "text/plain": [
              "115"
            ]
          },
          "metadata": {},
          "execution_count": 51
        }
      ]
    },
    {
      "cell_type": "code",
      "source": [
        "# product of all elements\n",
        "np.prod(A[:, 3])"
      ],
      "metadata": {
        "colab": {
          "base_uri": "https://localhost:8080/"
        },
        "id": "W70klv2N-74X",
        "outputId": "20416b05-2b71-4208-f195-e3afd401abcb"
      },
      "execution_count": null,
      "outputs": [
        {
          "output_type": "execute_result",
          "data": {
            "text/plain": [
              "1272843"
            ]
          },
          "metadata": {},
          "execution_count": 52
        }
      ]
    },
    {
      "cell_type": "markdown",
      "source": [
        "### 1.3.5 Perform functions on entire matrix?\n",
        "It is sometimes useful to apply the calculation to the entire array, and sometimes only on a row or column basis. Using the axis argument we can specify how these functions should behave:"
      ],
      "metadata": {
        "id": "wSduAywO8U5h"
      }
    },
    {
      "cell_type": "code",
      "source": [
        "from numpy import random\n",
        "\n",
        "m = random.rand(3, 3)\n",
        "m"
      ],
      "metadata": {
        "colab": {
          "base_uri": "https://localhost:8080/"
        },
        "id": "Vl7U4gT4_CQF",
        "outputId": "ca967d0b-fafb-4e1d-bd75-f5ed2690d107"
      },
      "execution_count": null,
      "outputs": [
        {
          "output_type": "execute_result",
          "data": {
            "text/plain": [
              "array([[0.41675868, 0.93452115, 0.42730802],\n",
              "       [0.72491049, 0.55264483, 0.35630697],\n",
              "       [0.73892726, 0.35339317, 0.52524505]])"
            ]
          },
          "metadata": {},
          "execution_count": 53
        }
      ]
    },
    {
      "cell_type": "code",
      "source": [
        "# global max\n",
        "m.max()"
      ],
      "metadata": {
        "colab": {
          "base_uri": "https://localhost:8080/"
        },
        "id": "ci0OuSjw_FyE",
        "outputId": "faf0164f-7d19-4110-b85b-9a6b1d9d1ed3"
      },
      "execution_count": null,
      "outputs": [
        {
          "output_type": "execute_result",
          "data": {
            "text/plain": [
              "0.9345211518209778"
            ]
          },
          "metadata": {},
          "execution_count": 54
        }
      ]
    },
    {
      "cell_type": "code",
      "source": [
        "# max in each column\n",
        "m.max(axis=0)"
      ],
      "metadata": {
        "colab": {
          "base_uri": "https://localhost:8080/"
        },
        "id": "sRH48njN_IPZ",
        "outputId": "8ad95e2e-010f-49ee-f92f-2ab092e89813"
      },
      "execution_count": null,
      "outputs": [
        {
          "output_type": "execute_result",
          "data": {
            "text/plain": [
              "array([0.73892726, 0.93452115, 0.52524505])"
            ]
          },
          "metadata": {},
          "execution_count": 55
        }
      ]
    },
    {
      "cell_type": "code",
      "source": [
        "# max in each row\n",
        "m.max(axis=1)"
      ],
      "metadata": {
        "colab": {
          "base_uri": "https://localhost:8080/"
        },
        "id": "YrO0-Wzk_INc",
        "outputId": "8c10fe85-7685-4bee-caba-656f481cf6f2"
      },
      "execution_count": null,
      "outputs": [
        {
          "output_type": "execute_result",
          "data": {
            "text/plain": [
              "array([0.93452115, 0.72491049, 0.73892726])"
            ]
          },
          "metadata": {},
          "execution_count": 56
        }
      ]
    },
    {
      "cell_type": "markdown",
      "source": [
        "Many other functions and methods in the array and matrix classes accept the same (optional) axis keyword argument."
      ],
      "metadata": {
        "id": "7nwvguTv_L3x"
      }
    },
    {
      "cell_type": "markdown",
      "source": [
        "## 1.4 Reshaping, resizing, and stacking arrays\n",
        "The shape of an Numpy array can be modified without copying the underlaying data, which makes it a fast operation even for large arrays."
      ],
      "metadata": {
        "id": "8eHjYoIB7anv"
      }
    },
    {
      "cell_type": "code",
      "source": [
        "A"
      ],
      "metadata": {
        "colab": {
          "base_uri": "https://localhost:8080/"
        },
        "id": "86XnvWAc_Rgo",
        "outputId": "14916cc8-6264-4379-d906-d24744803ecc"
      },
      "execution_count": null,
      "outputs": [
        {
          "output_type": "execute_result",
          "data": {
            "text/plain": [
              "array([[ 0,  1,  2,  3,  4],\n",
              "       [10, 11, 12, 13, 14],\n",
              "       [20, 21, 22, 23, 24],\n",
              "       [30, 31, 32, 33, 34],\n",
              "       [40, 41, 42, 43, 44]])"
            ]
          },
          "metadata": {},
          "execution_count": 57
        }
      ]
    },
    {
      "cell_type": "code",
      "source": [
        "n, m = A.shape\n",
        "n, m"
      ],
      "metadata": {
        "colab": {
          "base_uri": "https://localhost:8080/"
        },
        "id": "3cZ2OZRl_TCj",
        "outputId": "900ceae1-bc65-4b99-8d64-aea811e8b0cb"
      },
      "execution_count": null,
      "outputs": [
        {
          "output_type": "execute_result",
          "data": {
            "text/plain": [
              "(5, 5)"
            ]
          },
          "metadata": {},
          "execution_count": 58
        }
      ]
    },
    {
      "cell_type": "code",
      "source": [
        "B = A.reshape((1, n*m))\n",
        "n, m #equivalent to print(n,m)"
      ],
      "metadata": {
        "colab": {
          "base_uri": "https://localhost:8080/"
        },
        "id": "slyVxbjd_Yjm",
        "outputId": "e6e0e2f1-f538-469f-f6bd-ea51c9f33f95"
      },
      "execution_count": null,
      "outputs": [
        {
          "output_type": "execute_result",
          "data": {
            "text/plain": [
              "(5, 5)"
            ]
          },
          "metadata": {},
          "execution_count": 61
        }
      ]
    },
    {
      "cell_type": "markdown",
      "source": [
        "We can also use the function `flatten` to make a higher-dimensional array into a vector. But this function create a seperate copy of the underlying data."
      ],
      "metadata": {
        "id": "T67QFBSy_rru"
      }
    },
    {
      "cell_type": "code",
      "source": [
        "B = A.flatten()  # because B's data is a seperate copy of A's,\n",
        "B"
      ],
      "metadata": {
        "colab": {
          "base_uri": "https://localhost:8080/"
        },
        "id": "_qpFWSmX_g87",
        "outputId": "c57a1264-26b4-4d35-b60e-3297eb68c76e"
      },
      "execution_count": null,
      "outputs": [
        {
          "output_type": "execute_result",
          "data": {
            "text/plain": [
              "array([ 0,  1,  2,  3,  4, 10, 11, 12, 13, 14, 20, 21, 22, 23, 24, 30, 31,\n",
              "       32, 33, 34, 40, 41, 42, 43, 44])"
            ]
          },
          "metadata": {},
          "execution_count": 62
        }
      ]
    },
    {
      "cell_type": "markdown",
      "source": [
        "## 1.5 Type Casting\n",
        "Since Numpy arrays are statically typed, the type of an array does not change once created. But we can explicitly cast an array of some type to another using the astype functions. This always create a new array of new type:"
      ],
      "metadata": {
        "id": "YcuQyTbR7pnd"
      }
    },
    {
      "cell_type": "code",
      "source": [
        "M = np.array([[1, 2], [3, 4]])\n",
        "\n",
        "M"
      ],
      "metadata": {
        "colab": {
          "base_uri": "https://localhost:8080/"
        },
        "id": "yMfokA7j_yUH",
        "outputId": "fe188f80-1d6c-449a-8313-99d5150140ad"
      },
      "execution_count": null,
      "outputs": [
        {
          "output_type": "execute_result",
          "data": {
            "text/plain": [
              "array([[1, 2],\n",
              "       [3, 4]])"
            ]
          },
          "metadata": {},
          "execution_count": 63
        }
      ]
    },
    {
      "cell_type": "code",
      "source": [
        "M.dtype"
      ],
      "metadata": {
        "colab": {
          "base_uri": "https://localhost:8080/"
        },
        "id": "lH1Aq36d_10B",
        "outputId": "94692c17-8e7b-4262-b781-0bc9d7a59a91"
      },
      "execution_count": null,
      "outputs": [
        {
          "output_type": "execute_result",
          "data": {
            "text/plain": [
              "dtype('int64')"
            ]
          },
          "metadata": {},
          "execution_count": 64
        }
      ]
    },
    {
      "cell_type": "code",
      "source": [
        "M2 = M.astype('float64')\n",
        "\n",
        "M2"
      ],
      "metadata": {
        "colab": {
          "base_uri": "https://localhost:8080/"
        },
        "id": "LMOCfzrJ_33O",
        "outputId": "69fcae50-0fc4-474b-d363-8bfe8e0bc61b"
      },
      "execution_count": null,
      "outputs": [
        {
          "output_type": "execute_result",
          "data": {
            "text/plain": [
              "array([[1., 2.],\n",
              "       [3., 4.]])"
            ]
          },
          "metadata": {},
          "execution_count": 65
        }
      ]
    },
    {
      "cell_type": "code",
      "source": [
        "M2.dtype"
      ],
      "metadata": {
        "colab": {
          "base_uri": "https://localhost:8080/"
        },
        "id": "hcc06U22_31Q",
        "outputId": "ff5b87b0-6193-45ae-95a9-d9f240e1d5cb"
      },
      "execution_count": null,
      "outputs": [
        {
          "output_type": "execute_result",
          "data": {
            "text/plain": [
              "dtype('float64')"
            ]
          },
          "metadata": {},
          "execution_count": 66
        }
      ]
    },
    {
      "cell_type": "code",
      "source": [
        "M3 = M.astype(bool)\n",
        "\n",
        "M3"
      ],
      "metadata": {
        "colab": {
          "base_uri": "https://localhost:8080/"
        },
        "id": "m2T-jDY4_9co",
        "outputId": "d0e1853c-fff9-4d76-ac75-360de75dbd5e"
      },
      "execution_count": null,
      "outputs": [
        {
          "output_type": "execute_result",
          "data": {
            "text/plain": [
              "array([[ True,  True],\n",
              "       [ True,  True]])"
            ]
          },
          "metadata": {},
          "execution_count": 67
        }
      ]
    },
    {
      "cell_type": "markdown",
      "source": [
        "##2. Scipy: a library for scientific computing\n",
        "It provides many user-friendly and efficient numerical routines such as stats, numerical integration and optimization."
      ],
      "metadata": {
        "id": "mNZCOGDr7urP"
      }
    },
    {
      "cell_type": "code",
      "source": [
        "import numpy as np\n",
        "import scipy.spatial.distance as sp_dist\n",
        "\n",
        "\n",
        "x = np.random.randint(0, 2, size = 20)      # Return random integers from low (inclusive) to high (exclusive).\n",
        "y = np.random.randint(0, 2, size = 20)\n",
        "\n",
        "print (x)\n",
        "print (y)\n",
        "print (sp_dist.cosine(x,y))\n",
        "print (sp_dist.euclidean(x,y))\n",
        "print (sp_dist.jaccard(x,y))\n",
        "print (sp_dist.hamming(x,y))"
      ],
      "metadata": {
        "colab": {
          "base_uri": "https://localhost:8080/"
        },
        "id": "JcWtNDKlAG-t",
        "outputId": "e1f682cb-4948-4318-9ce8-8af7b19e0b53"
      },
      "execution_count": null,
      "outputs": [
        {
          "output_type": "stream",
          "name": "stdout",
          "text": [
            "[0 0 1 1 0 1 0 1 1 1 0 1 1 1 1 1 0 1 0 0]\n",
            "[0 0 0 1 0 1 1 1 1 0 1 1 0 1 0 0 1 1 0 0]\n",
            "0.36099034957730625\n",
            "2.8284271247461903\n",
            "0.5333333333333333\n",
            "0.4\n"
          ]
        }
      ]
    },
    {
      "cell_type": "code",
      "source": [
        "from scipy.stats import linregress\n",
        "\n",
        "a = [15, 12, 8, 8, 7, 7, 7, 6, 5, 3]\n",
        "b = [10, 25, 17, 11, 13, 17, 20, 13, 9, 15]\n",
        "\n",
        "linregress(a, b)"
      ],
      "metadata": {
        "colab": {
          "base_uri": "https://localhost:8080/"
        },
        "id": "IDEQUDkDAKgr",
        "outputId": "0201c292-5471-4ad8-8d24-a23409fac316"
      },
      "execution_count": null,
      "outputs": [
        {
          "output_type": "execute_result",
          "data": {
            "text/plain": [
              "LinregressResult(slope=0.20833333333333331, intercept=13.375, rvalue=0.14499815458068518, pvalue=0.689401448116695, stderr=0.5026170462708364, intercept_stderr=4.247039688703678)"
            ]
          },
          "metadata": {},
          "execution_count": 69
        }
      ]
    },
    {
      "cell_type": "markdown",
      "source": [
        "## 3. Matplotlib\n",
        "####  (1) Use a magic command to enable figures in notebook!!!\n",
        "%matplotlib inline    \n",
        "\n",
        "####  (2) Import\n",
        "import matplotlib.pyplot as plt"
      ],
      "metadata": {
        "id": "s4188nZFAMah"
      }
    },
    {
      "cell_type": "code",
      "source": [
        "# A magic command to enable matplotlib figures in notebook!!!\n",
        "%matplotlib inline\n",
        "\n",
        "# import\n",
        "import matplotlib.pyplot as plt\n",
        "import numpy as np\n",
        "\n",
        "\n",
        "# create an empty figure\n",
        "\n",
        "fig = plt.figure()  # an empty figure\n",
        "\n",
        "plt.figure(figsize=(20,5))  # optional\n",
        "\n",
        "x = np.linspace(0, 2, 100)\n",
        "\n",
        "plt.plot(x, x, label='linear')\n",
        "plt.plot(x, x**2, label='quadratic')\n",
        "plt.plot(x, x**3, label='cubic')\n",
        "\n",
        "plt.xlabel('x label')\n",
        "plt.ylabel('y label')\n",
        "\n",
        "plt.title(\"Simple Plot\")\n",
        "\n",
        "plt.legend()\n",
        "\n",
        "plt.show()"
      ],
      "metadata": {
        "colab": {
          "base_uri": "https://localhost:8080/",
          "height": 470
        },
        "id": "MgZIahuqAUC7",
        "outputId": "2dffca1d-040e-40e7-b6c0-8032c3e648fa"
      },
      "execution_count": null,
      "outputs": [
        {
          "output_type": "display_data",
          "data": {
            "text/plain": [
              "<Figure size 640x480 with 0 Axes>"
            ]
          },
          "metadata": {}
        },
        {
          "output_type": "display_data",
          "data": {
            "text/plain": [
              "<Figure size 2000x500 with 1 Axes>"
            ],
            "image/png": "[encoded data removed]"
          },
          "metadata": {}
        }
      ]
    },
    {
      "cell_type": "markdown",
      "source": [
        "### 3.1 Generate random data"
      ],
      "metadata": {
        "id": "DzuioMUlAY62"
      }
    },
    {
      "cell_type": "code",
      "source": [
        "from numpy import random"
      ],
      "metadata": {
        "id": "3hl0DepHAfYS"
      },
      "execution_count": null,
      "outputs": []
    },
    {
      "cell_type": "code",
      "source": [
        "# uniform random numbers in [0,1]\n",
        "random.rand(5,5)"
      ],
      "metadata": {
        "colab": {
          "base_uri": "https://localhost:8080/"
        },
        "id": "yGDR9MwWAiw4",
        "outputId": "1d8b6d5d-0f33-483e-cce3-80aac46f98ce"
      },
      "execution_count": null,
      "outputs": [
        {
          "output_type": "execute_result",
          "data": {
            "text/plain": [
              "array([[0.95489491, 0.61852881, 0.98348952, 0.47049147, 0.49698573],\n",
              "       [0.41645456, 0.03486699, 0.64259279, 0.01973885, 0.72771575],\n",
              "       [0.03379677, 0.85194952, 0.18816291, 0.60278412, 0.65430376],\n",
              "       [0.84207101, 0.65740152, 0.27390557, 0.53290605, 0.07666221],\n",
              "       [0.37660057, 0.60265441, 0.63351509, 0.52214489, 0.82420518]])"
            ]
          },
          "metadata": {},
          "execution_count": 72
        }
      ]
    },
    {
      "cell_type": "code",
      "source": [
        "# standard normal distributed random numbers\n",
        "random.randn(5,5)"
      ],
      "metadata": {
        "colab": {
          "base_uri": "https://localhost:8080/"
        },
        "id": "gT5p1BRzAkmC",
        "outputId": "62939d23-188e-4748-f9b9-9b2bc487ea0c"
      },
      "execution_count": null,
      "outputs": [
        {
          "output_type": "execute_result",
          "data": {
            "text/plain": [
              "array([[-0.04399062, -0.44921458,  1.73060479, -1.53659447, -0.64853936],\n",
              "       [ 1.37218833,  2.85311602,  1.15941744, -0.22461951,  1.55777395],\n",
              "       [-0.65142436, -1.63204592,  0.12706123, -1.17859452,  0.37328083],\n",
              "       [ 0.32740204, -0.04461269,  0.59974104,  0.21610515,  2.19437836],\n",
              "       [-1.0470915 ,  1.11123599, -0.32317251,  0.31657571,  1.02770455]])"
            ]
          },
          "metadata": {},
          "execution_count": 73
        }
      ]
    },
    {
      "cell_type": "code",
      "source": [
        "x = random.randn(10000)\n",
        "plt.hist(x)\n",
        "plt.show()"
      ],
      "metadata": {
        "colab": {
          "base_uri": "https://localhost:8080/",
          "height": 430
        },
        "id": "F8RlTqINAmdS",
        "outputId": "ee1776ac-efb2-4578-8b28-3e85789175b7"
      },
      "execution_count": null,
      "outputs": [
        {
          "output_type": "display_data",
          "data": {
            "text/plain": [
              "<Figure size 640x480 with 1 Axes>"
            ],
            "image/png": "[encoded data removed]"
          },
          "metadata": {}
        }
      ]
    },
    {
      "cell_type": "code",
      "source": [
        "np.random.randint(0, 2, size=10)   # Return random integers from low (inclusive) to high (exclusive)"
      ],
      "metadata": {
        "colab": {
          "base_uri": "https://localhost:8080/"
        },
        "id": "sJY9rOAyAovm",
        "outputId": "03b99f5d-947a-4665-a832-9a2f818cd7f8"
      },
      "execution_count": null,
      "outputs": [
        {
          "output_type": "execute_result",
          "data": {
            "text/plain": [
              "array([1, 1, 0, 1, 1, 0, 0, 1, 0, 1])"
            ]
          },
          "metadata": {},
          "execution_count": 75
        }
      ]
    },
    {
      "cell_type": "code",
      "source": [
        "np.random.randint(0, 5, size=(2, 4))   # Return random integers from low (inclusive) to high (exclusive)"
      ],
      "metadata": {
        "colab": {
          "base_uri": "https://localhost:8080/"
        },
        "id": "v9S_5py9Aq_b",
        "outputId": "d14e4cb5-c2fc-49b0-c3e6-119505d9ebf5"
      },
      "execution_count": null,
      "outputs": [
        {
          "output_type": "execute_result",
          "data": {
            "text/plain": [
              "array([[1, 1, 3, 4],\n",
              "       [1, 3, 0, 2]])"
            ]
          },
          "metadata": {},
          "execution_count": 76
        }
      ]
    }
  ]
}