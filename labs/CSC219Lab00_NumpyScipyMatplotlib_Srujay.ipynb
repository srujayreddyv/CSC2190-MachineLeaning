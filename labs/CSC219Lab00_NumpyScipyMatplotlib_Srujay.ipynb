{
  "nbformat": 4,
  "nbformat_minor": 0,
  "metadata": {
    "colab": {
      "provenance": [],
      "authorship_tag": "ABX9TyOAuCSGMx9s2VzpYBx+dWr8",
      "include_colab_link": true
    },
    "kernelspec": {
      "name": "python3",
      "display_name": "Python 3"
    },
    "language_info": {
      "name": "python"
    }
  },
  "cells": [
    {
      "cell_type": "markdown",
      "metadata": {
        "id": "view-in-github",
        "colab_type": "text"
      },
      "source": [
        "<a href=\"https://colab.research.google.com/github/srujayreddyv/CSUS-CSC219-MachineLeaning/blob/main/labs/CSC219Lab00_NumpyScipyMatplotlib_Srujay.ipynb\" target=\"_parent\"><img src=\"https://colab.research.google.com/assets/colab-badge.svg\" alt=\"Open In Colab\"/></a>"
      ]
    },
    {
      "cell_type": "markdown",
      "source": [
        "#CSC 219 Machine Learning (Fall 2023)\n"
      ],
      "metadata": {
        "id": "9Nt5J2cf0xz4"
      }
    },
    {
      "cell_type": "markdown",
      "source": [
        "#Lab 0: Numpy, Scipy and Matplotlib"
      ],
      "metadata": {
        "id": "Zvjchvti1tTz"
      }
    },
    {
      "cell_type": "markdown",
      "source": [
        "##1 Numpy\n",
        "The `numpy` package (module) is used in almost all numerical computation using Python. It is a package that provide high-performance vector, matrix and higher-dimensional data structures for Python. It is implemented in C and Fortran so when calculations are vectorized (formulated with vectors and matrices), performance is very good.\n",
        "\n",
        "To use `numpy` first import the module:"
      ],
      "metadata": {
        "id": "FXVStsyx10l1"
      }
    },
    {
      "cell_type": "code",
      "execution_count": null,
      "metadata": {
        "id": "RpdLMS6N0l6Z"
      },
      "outputs": [],
      "source": [
        "import numpy as np  # np is the most common import name for numpy"
      ]
    },
    {
      "cell_type": "markdown",
      "source": [
        "In the numpy package the terminology used for vectors, matrices and higher-dimensional data sets is array."
      ],
      "metadata": {
        "id": "kanzLsez2AnZ"
      }
    },
    {
      "cell_type": "markdown",
      "source": [
        "##1.1 Creating numpy arrays (vectors or matrices)¶\n",
        "There are a number of ways to initialize new numpy arrays, for example from\n",
        "\n",
        "a Python list or tuples\n",
        "*   using functions that are dedicated to generating numpy arrays, such as arange,\n",
        "*   linspace, etc.\n",
        "*   reading data from files\n"
      ],
      "metadata": {
        "id": "i_qga9cJ2FG3"
      }
    },
    {
      "cell_type": "markdown",
      "source": [
        "\n",
        "### 1.1.1 From Lists\n",
        "For example, to create new vector and matrix arrays from Python lists we can use the numpy.array function."
      ],
      "metadata": {
        "id": "iROuRKBw2hEA"
      }
    },
    {
      "cell_type": "code",
      "source": [
        "# a vector: the argument to the array function is a Python list\n",
        "v = np.array([1, 2, 3, 4])\n",
        "v"
      ],
      "metadata": {
        "colab": {
          "base_uri": "https://localhost:8080/"
        },
        "id": "haX5OGWw2BSp",
        "outputId": "b3e74820-870f-42c6-835c-45fd12bf9d5f"
      },
      "execution_count": null,
      "outputs": [
        {
          "output_type": "execute_result",
          "data": {
            "text/plain": [
              "array([1, 2, 3, 4])"
            ]
          },
          "metadata": {},
          "execution_count": 2
        }
      ]
    },
    {
      "cell_type": "code",
      "source": [
        "# a matrix (or better a 2d array): the argument to the array function is a nested Python list\n",
        "M = np.array([[1, 2], [3, 4]])\n",
        "M"
      ],
      "metadata": {
        "colab": {
          "base_uri": "https://localhost:8080/"
        },
        "id": "j_09fahH2sGk",
        "outputId": "353c4a47-05da-4e0a-d07f-165eb5e673de"
      },
      "execution_count": null,
      "outputs": [
        {
          "output_type": "execute_result",
          "data": {
            "text/plain": [
              "array([[1, 2],\n",
              "       [3, 4]])"
            ]
          },
          "metadata": {},
          "execution_count": 3
        }
      ]
    },
    {
      "cell_type": "markdown",
      "source": [
        "The `v` and `M` objects are both of the type `ndarray` that the `numpy` module provides."
      ],
      "metadata": {
        "id": "1qfrY2Xq2uIx"
      }
    },
    {
      "cell_type": "code",
      "source": [
        "type(v), type(M)"
      ],
      "metadata": {
        "colab": {
          "base_uri": "https://localhost:8080/"
        },
        "id": "bFitjwMO20D1",
        "outputId": "e456ddcb-9255-4f5f-fd65-0f5170a02084"
      },
      "execution_count": null,
      "outputs": [
        {
          "output_type": "execute_result",
          "data": {
            "text/plain": [
              "(numpy.ndarray, numpy.ndarray)"
            ]
          },
          "metadata": {},
          "execution_count": 4
        }
      ]
    },
    {
      "cell_type": "markdown",
      "source": [
        "The difference between the `v` and `M` arrays is only their shapes. We can get information about the shape of an array by using the `ndarray.shape` property."
      ],
      "metadata": {
        "id": "D0oAFljc250A"
      }
    },
    {
      "cell_type": "code",
      "source": [
        "v.shape"
      ],
      "metadata": {
        "colab": {
          "base_uri": "https://localhost:8080/"
        },
        "id": "u0LaK3Vw24lU",
        "outputId": "e3cab14c-e3c8-4bc4-b701-8a570404f4e3"
      },
      "execution_count": null,
      "outputs": [
        {
          "output_type": "execute_result",
          "data": {
            "text/plain": [
              "(4,)"
            ]
          },
          "metadata": {},
          "execution_count": 5
        }
      ]
    },
    {
      "cell_type": "code",
      "source": [
        "M.shape"
      ],
      "metadata": {
        "colab": {
          "base_uri": "https://localhost:8080/"
        },
        "id": "zjgU5R513EK0",
        "outputId": "90595aea-d440-450f-8e3b-6acbdeea633f"
      },
      "execution_count": null,
      "outputs": [
        {
          "output_type": "execute_result",
          "data": {
            "text/plain": [
              "(2, 2)"
            ]
          },
          "metadata": {},
          "execution_count": 6
        }
      ]
    },
    {
      "cell_type": "code",
      "source": [
        "v.size"
      ],
      "metadata": {
        "colab": {
          "base_uri": "https://localhost:8080/"
        },
        "id": "EhIRSfjh3G6z",
        "outputId": "a993df66-6384-4981-cd65-60101088edab"
      },
      "execution_count": null,
      "outputs": [
        {
          "output_type": "execute_result",
          "data": {
            "text/plain": [
              "4"
            ]
          },
          "metadata": {},
          "execution_count": 7
        }
      ]
    },
    {
      "cell_type": "code",
      "source": [
        "M.size"
      ],
      "metadata": {
        "colab": {
          "base_uri": "https://localhost:8080/"
        },
        "id": "y125PDWx3IoL",
        "outputId": "5b009cbd-c160-463e-c7b4-ba7dd8dc7850"
      },
      "execution_count": null,
      "outputs": [
        {
          "output_type": "execute_result",
          "data": {
            "text/plain": [
              "4"
            ]
          },
          "metadata": {},
          "execution_count": 8
        }
      ]
    },
    {
      "cell_type": "markdown",
      "source": [
        "***So far the numpy.ndarray looks much like a Python list.\n",
        "\n",
        "Why not simply use Python lists for computations instead of creating a new array type?\n",
        "There are several reasons:\n",
        "*   Numpy arrays are memory efficient and run much faster than Python lists in order to support big data.\n",
        "*   Python lists DO NOT support mathematical functions such as matrix and dot multiplications, etc. Implementating such functions for Python lists would be very inefficient.\n",
        "*   Python lists are very general. They can contain any kind of object. * Numpy arrays are homogeneous. The type of the elements is determined when array is created.***\n",
        "\n",
        "Using the dtype (data type) property of an ndarray, we can see what type each element of an array has:"
      ],
      "metadata": {
        "id": "am93Mv5O3DSF"
      }
    },
    {
      "cell_type": "code",
      "source": [
        "M.dtype"
      ],
      "metadata": {
        "colab": {
          "base_uri": "https://localhost:8080/"
        },
        "id": "OXaqjgN23Y9w",
        "outputId": "a97ec0d3-cf8f-44cc-bcfc-cb722907a3c6"
      },
      "execution_count": null,
      "outputs": [
        {
          "output_type": "execute_result",
          "data": {
            "text/plain": [
              "dtype('int64')"
            ]
          },
          "metadata": {},
          "execution_count": 9
        }
      ]
    },
    {
      "cell_type": "code",
      "source": [
        "M[0,0] = \"hello\""
      ],
      "metadata": {
        "colab": {
          "base_uri": "https://localhost:8080/",
          "height": 176
        },
        "id": "L8n2e7Im3cW3",
        "outputId": "1f99ee45-23fa-4dd8-db2a-9f3edf83064a"
      },
      "execution_count": null,
      "outputs": [
        {
          "output_type": "error",
          "ename": "ValueError",
          "evalue": "ignored",
          "traceback": [
            "\u001b[0;31m---------------------------------------------------------------------------\u001b[0m",
            "\u001b[0;31mValueError\u001b[0m                                Traceback (most recent call last)",
            "\u001b[0;32m<ipython-input-10-e1f336250f69>\u001b[0m in \u001b[0;36m<cell line: 1>\u001b[0;34m()\u001b[0m\n\u001b[0;32m----> 1\u001b[0;31m \u001b[0mM\u001b[0m\u001b[0;34m[\u001b[0m\u001b[0;36m0\u001b[0m\u001b[0;34m,\u001b[0m\u001b[0;36m0\u001b[0m\u001b[0;34m]\u001b[0m \u001b[0;34m=\u001b[0m \u001b[0;34m\"hello\"\u001b[0m\u001b[0;34m\u001b[0m\u001b[0;34m\u001b[0m\u001b[0m\n\u001b[0m",
            "\u001b[0;31mValueError\u001b[0m: invalid literal for int() with base 10: 'hello'"
          ]
        }
      ]
    },
    {
      "cell_type": "markdown",
      "source": [
        "If we want, we can explicitly define the type of the array data when we create it, using the dtype keyword argument:"
      ],
      "metadata": {
        "id": "BT-p7NhQ3l3D"
      }
    },
    {
      "cell_type": "code",
      "source": [
        "M = np.array([[1, 2], [3, 4]], dtype='float32')\n",
        "M"
      ],
      "metadata": {
        "colab": {
          "base_uri": "https://localhost:8080/"
        },
        "id": "aGp2-c_P3kgF",
        "outputId": "aa09b332-d706-47b3-ba0a-41a4669838a3"
      },
      "execution_count": null,
      "outputs": [
        {
          "output_type": "execute_result",
          "data": {
            "text/plain": [
              "array([[1., 2.],\n",
              "       [3., 4.]], dtype=float32)"
            ]
          },
          "metadata": {},
          "execution_count": 11
        }
      ]
    },
    {
      "cell_type": "markdown",
      "source": [
        "\n",
        "Common type that can be used with dtype are: int, float, complex, bool, object, etc.\n",
        "\n",
        "We can also explicitly define the bit size of the data types, for example: int64, int16, float128, complex128."
      ],
      "metadata": {
        "id": "8QbK4Wm132SV"
      }
    },
    {
      "cell_type": "markdown",
      "source": [
        "### 1.1.2 Using functions to generate arrays¶\n",
        "For larger arrays it is inpractical to initialize the data manually, using explicit python lists. Instead we can use one of the many functions in numpy that generates arrays of different forms. Some of the more common are:"
      ],
      "metadata": {
        "id": "ZGe91DgP33th"
      }
    },
    {
      "cell_type": "markdown",
      "source": [
        "####arrange"
      ],
      "metadata": {
        "id": "AXqovgKG3-Qr"
      }
    },
    {
      "cell_type": "code",
      "source": [
        "# create a range\n",
        "\n",
        "x = np.arange(0, 10, 1) # arguments: start, stop, step\n",
        "x"
      ],
      "metadata": {
        "colab": {
          "base_uri": "https://localhost:8080/"
        },
        "id": "jgV9hXKy4FIo",
        "outputId": "f4f3ac43-64b5-40f2-906a-926d3388c9a4"
      },
      "execution_count": null,
      "outputs": [
        {
          "output_type": "execute_result",
          "data": {
            "text/plain": [
              "array([0, 1, 2, 3, 4, 5, 6, 7, 8, 9])"
            ]
          },
          "metadata": {},
          "execution_count": 12
        }
      ]
    },
    {
      "cell_type": "code",
      "source": [
        "x = np.arange(-1, 1, 0.1)\n",
        "x"
      ],
      "metadata": {
        "colab": {
          "base_uri": "https://localhost:8080/"
        },
        "id": "WHxlpYbG4Iqx",
        "outputId": "b93bb408-68a7-46ed-c3d9-904a3934d259"
      },
      "execution_count": null,
      "outputs": [
        {
          "output_type": "execute_result",
          "data": {
            "text/plain": [
              "array([-1.00000000e+00, -9.00000000e-01, -8.00000000e-01, -7.00000000e-01,\n",
              "       -6.00000000e-01, -5.00000000e-01, -4.00000000e-01, -3.00000000e-01,\n",
              "       -2.00000000e-01, -1.00000000e-01, -2.22044605e-16,  1.00000000e-01,\n",
              "        2.00000000e-01,  3.00000000e-01,  4.00000000e-01,  5.00000000e-01,\n",
              "        6.00000000e-01,  7.00000000e-01,  8.00000000e-01,  9.00000000e-01])"
            ]
          },
          "metadata": {},
          "execution_count": 13
        }
      ]
    },
    {
      "cell_type": "markdown",
      "source": [
        "####Linespace and logspace"
      ],
      "metadata": {
        "id": "oR9EiFZD4LV6"
      }
    },
    {
      "cell_type": "code",
      "source": [
        "# using linspace, both end points ARE included\n",
        "np.linspace(0, 10, 25)"
      ],
      "metadata": {
        "colab": {
          "base_uri": "https://localhost:8080/"
        },
        "id": "UmKAYfJw4IoP",
        "outputId": "cca5556f-5ed8-47eb-b3bf-a5db95442611"
      },
      "execution_count": null,
      "outputs": [
        {
          "output_type": "execute_result",
          "data": {
            "text/plain": [
              "array([ 0.        ,  0.41666667,  0.83333333,  1.25      ,  1.66666667,\n",
              "        2.08333333,  2.5       ,  2.91666667,  3.33333333,  3.75      ,\n",
              "        4.16666667,  4.58333333,  5.        ,  5.41666667,  5.83333333,\n",
              "        6.25      ,  6.66666667,  7.08333333,  7.5       ,  7.91666667,\n",
              "        8.33333333,  8.75      ,  9.16666667,  9.58333333, 10.        ])"
            ]
          },
          "metadata": {},
          "execution_count": 14
        }
      ]
    },
    {
      "cell_type": "code",
      "source": [
        "np.logspace(0, 10, 10, base=10)"
      ],
      "metadata": {
        "colab": {
          "base_uri": "https://localhost:8080/"
        },
        "id": "FPa__cOF4RYN",
        "outputId": "08f0be3f-4ed2-4cf8-f2ab-a653db219d74"
      },
      "execution_count": null,
      "outputs": [
        {
          "output_type": "execute_result",
          "data": {
            "text/plain": [
              "array([1.00000000e+00, 1.29154967e+01, 1.66810054e+02, 2.15443469e+03,\n",
              "       2.78255940e+04, 3.59381366e+05, 4.64158883e+06, 5.99484250e+07,\n",
              "       7.74263683e+08, 1.00000000e+10])"
            ]
          },
          "metadata": {},
          "execution_count": 15
        }
      ]
    },
    {
      "cell_type": "markdown",
      "source": [
        "## 1.2 Manipulating arrays"
      ],
      "metadata": {
        "id": "8vqPKqKh4UM7"
      }
    },
    {
      "cell_type": "markdown",
      "source": [
        "### 1.2.1 Indexing\n",
        "We can index elements in an array using the square bracket and indices:"
      ],
      "metadata": {
        "id": "wpxzAUEJ4ql2"
      }
    },
    {
      "cell_type": "code",
      "source": [
        "v = np.array([1, 2, 3, 4])\n",
        "\n",
        "# v is a vector, and has only one dimension, taking one index\n",
        "v[0]"
      ],
      "metadata": {
        "colab": {
          "base_uri": "https://localhost:8080/"
        },
        "id": "jzTleWtl4vyE",
        "outputId": "14eeedaf-2782-4ab4-e8b6-4c51e8594742"
      },
      "execution_count": null,
      "outputs": [
        {
          "output_type": "execute_result",
          "data": {
            "text/plain": [
              "1"
            ]
          },
          "metadata": {},
          "execution_count": 16
        }
      ]
    },
    {
      "cell_type": "code",
      "source": [
        "M = np.array([[1, 2], [3, 4]])\n",
        "\n",
        "# M is a matrix, or a 2 dimensional array, taking two indices\n",
        "M[1, 1]"
      ],
      "metadata": {
        "colab": {
          "base_uri": "https://localhost:8080/"
        },
        "id": "GFjNKxPy44EI",
        "outputId": "2fc738a8-a321-46d6-e1c8-00ed1576bcbd"
      },
      "execution_count": null,
      "outputs": [
        {
          "output_type": "execute_result",
          "data": {
            "text/plain": [
              "4"
            ]
          },
          "metadata": {},
          "execution_count": 17
        }
      ]
    },
    {
      "cell_type": "code",
      "source": [
        "M"
      ],
      "metadata": {
        "colab": {
          "base_uri": "https://localhost:8080/"
        },
        "id": "FqsUl13j45u7",
        "outputId": "6901acfc-773e-482f-8a68-c5c1d71bff41"
      },
      "execution_count": null,
      "outputs": [
        {
          "output_type": "execute_result",
          "data": {
            "text/plain": [
              "array([[1, 2],\n",
              "       [3, 4]])"
            ]
          },
          "metadata": {},
          "execution_count": 18
        }
      ]
    },
    {
      "cell_type": "code",
      "source": [
        "M[1, :] # row 1"
      ],
      "metadata": {
        "colab": {
          "base_uri": "https://localhost:8080/"
        },
        "id": "jKn2glPX48IF",
        "outputId": "a8cc435c-f45c-40b0-a8d9-a8302c99b8c0"
      },
      "execution_count": null,
      "outputs": [
        {
          "output_type": "execute_result",
          "data": {
            "text/plain": [
              "array([3, 4])"
            ]
          },
          "metadata": {},
          "execution_count": 19
        }
      ]
    },
    {
      "cell_type": "code",
      "source": [
        "M[:, 1] # column 1"
      ],
      "metadata": {
        "colab": {
          "base_uri": "https://localhost:8080/"
        },
        "id": "akXgv35F48Gc",
        "outputId": "670cd19e-779e-4ab0-846b-83f9c84ca853"
      },
      "execution_count": null,
      "outputs": [
        {
          "output_type": "execute_result",
          "data": {
            "text/plain": [
              "array([2, 4])"
            ]
          },
          "metadata": {},
          "execution_count": 20
        }
      ]
    },
    {
      "cell_type": "code",
      "source": [
        "M[0, 0] = 10\n",
        "M"
      ],
      "metadata": {
        "colab": {
          "base_uri": "https://localhost:8080/"
        },
        "id": "_SciLpnx4_xz",
        "outputId": "2204654b-897f-4852-a20b-e63b121f5fe8"
      },
      "execution_count": null,
      "outputs": [
        {
          "output_type": "execute_result",
          "data": {
            "text/plain": [
              "array([[10,  2],\n",
              "       [ 3,  4]])"
            ]
          },
          "metadata": {},
          "execution_count": 21
        }
      ]
    },
    {
      "cell_type": "code",
      "source": [
        "# also works for rows and columns\n",
        "M[0, :] = 0\n",
        "M[:, 1] = -1"
      ],
      "metadata": {
        "id": "HFk62jBF5Dka"
      },
      "execution_count": null,
      "outputs": []
    },
    {
      "cell_type": "code",
      "source": [
        "M"
      ],
      "metadata": {
        "colab": {
          "base_uri": "https://localhost:8080/"
        },
        "id": "8AwfqoNU5FyC",
        "outputId": "4d73f087-261b-4366-8742-c45a1dd8cb12"
      },
      "execution_count": null,
      "outputs": [
        {
          "output_type": "execute_result",
          "data": {
            "text/plain": [
              "array([[ 0, -1],\n",
              "       [ 3, -1]])"
            ]
          },
          "metadata": {},
          "execution_count": 23
        }
      ]
    },
    {
      "cell_type": "markdown",
      "source": [
        "### 1.2.2 Index slicing\n",
        "\n",
        "Index slicing is the technical name for the syntax M[start:end:step] to extract part of an array:"
      ],
      "metadata": {
        "id": "gl2ZAxUL5Iny"
      }
    },
    {
      "cell_type": "code",
      "source": [
        "A = np.array([1,2,3,4,5])\n",
        "A"
      ],
      "metadata": {
        "colab": {
          "base_uri": "https://localhost:8080/"
        },
        "id": "NXH-4SzE5FwL",
        "outputId": "1e2f0205-a325-4c05-b20d-ee7df41c55db"
      },
      "execution_count": null,
      "outputs": [
        {
          "output_type": "execute_result",
          "data": {
            "text/plain": [
              "array([1, 2, 3, 4, 5])"
            ]
          },
          "metadata": {},
          "execution_count": 24
        }
      ]
    },
    {
      "cell_type": "code",
      "source": [
        "A[1:3]"
      ],
      "metadata": {
        "colab": {
          "base_uri": "https://localhost:8080/"
        },
        "id": "ssyOb7B_5Rzn",
        "outputId": "79016770-585a-4871-c40c-ecc31412efef"
      },
      "execution_count": null,
      "outputs": [
        {
          "output_type": "execute_result",
          "data": {
            "text/plain": [
              "array([2, 3])"
            ]
          },
          "metadata": {},
          "execution_count": 25
        }
      ]
    },
    {
      "cell_type": "markdown",
      "source": [
        "#### Array slices are mutable\n",
        "If they are assigned a new value the original array from which the slice was extracted is modified:"
      ],
      "metadata": {
        "id": "KY0OsjwF5Up3"
      }
    },
    {
      "cell_type": "code",
      "source": [
        "A[1:3] = [-2, -3]\n",
        "\n",
        "A"
      ],
      "metadata": {
        "colab": {
          "base_uri": "https://localhost:8080/"
        },
        "id": "NywnD7lF5VYQ",
        "outputId": "5ed800f9-4bf9-40ab-adc7-f0e2b74798d7"
      },
      "execution_count": null,
      "outputs": [
        {
          "output_type": "execute_result",
          "data": {
            "text/plain": [
              "array([ 1, -2, -3,  4,  5])"
            ]
          },
          "metadata": {},
          "execution_count": 26
        }
      ]
    },
    {
      "cell_type": "markdown",
      "source": [
        "We can omit any of the three parameters in M[start:end:step]:"
      ],
      "metadata": {
        "id": "u6nym1045ZsL"
      }
    },
    {
      "cell_type": "code",
      "source": [
        "A[::] # lower, upper, step all take the default values"
      ],
      "metadata": {
        "colab": {
          "base_uri": "https://localhost:8080/"
        },
        "id": "mBi_HN2h5aUQ",
        "outputId": "c72871a9-9f0b-4bdf-889d-a972ea72b5b5"
      },
      "execution_count": null,
      "outputs": [
        {
          "output_type": "execute_result",
          "data": {
            "text/plain": [
              "array([ 1, -2, -3,  4,  5])"
            ]
          },
          "metadata": {},
          "execution_count": 27
        }
      ]
    },
    {
      "cell_type": "code",
      "source": [
        "A[::2] # step is 2, lower and upper defaults to the beginning and end of the array"
      ],
      "metadata": {
        "colab": {
          "base_uri": "https://localhost:8080/"
        },
        "id": "jNE9T8c35eH8",
        "outputId": "b7f1783c-fc9f-459c-9843-8fee29d3727b"
      },
      "execution_count": null,
      "outputs": [
        {
          "output_type": "execute_result",
          "data": {
            "text/plain": [
              "array([ 1, -3,  5])"
            ]
          },
          "metadata": {},
          "execution_count": 28
        }
      ]
    },
    {
      "cell_type": "code",
      "source": [
        "A[:3] # first three elements"
      ],
      "metadata": {
        "colab": {
          "base_uri": "https://localhost:8080/"
        },
        "id": "VZa-3LM65gWo",
        "outputId": "35b6ed6a-3922-465f-89cd-81bade6c5e05"
      },
      "execution_count": null,
      "outputs": [
        {
          "output_type": "execute_result",
          "data": {
            "text/plain": [
              "array([ 1, -2, -3])"
            ]
          },
          "metadata": {},
          "execution_count": 29
        }
      ]
    },
    {
      "cell_type": "code",
      "source": [
        "A[3:] # elements from index 3"
      ],
      "metadata": {
        "colab": {
          "base_uri": "https://localhost:8080/"
        },
        "id": "CO1IGkXN5iJ8",
        "outputId": "b4937f81-6fb3-4a1a-d3d1-2155fede8ede"
      },
      "execution_count": null,
      "outputs": [
        {
          "output_type": "execute_result",
          "data": {
            "text/plain": [
              "array([4, 5])"
            ]
          },
          "metadata": {},
          "execution_count": 30
        }
      ]
    },
    {
      "cell_type": "markdown",
      "source": [
        "Negative indices counts from the end of the array (positive index from the begining):"
      ],
      "metadata": {
        "id": "XFDi0WT55ljG"
      }
    },
    {
      "cell_type": "code",
      "source": [
        "A = np.array([1, 2, 3, 4, 5])"
      ],
      "metadata": {
        "id": "Cnu_-CEi5iIO"
      },
      "execution_count": null,
      "outputs": []
    },
    {
      "cell_type": "code",
      "source": [
        "A[-1] # the last element in the array"
      ],
      "metadata": {
        "colab": {
          "base_uri": "https://localhost:8080/"
        },
        "id": "rbXCzS0i5qww",
        "outputId": "4014cedf-f538-4257-8d3c-fbb8f26edd7a"
      },
      "execution_count": null,
      "outputs": [
        {
          "output_type": "execute_result",
          "data": {
            "text/plain": [
              "5"
            ]
          },
          "metadata": {},
          "execution_count": 32
        }
      ]
    },
    {
      "cell_type": "code",
      "source": [
        "A[-3:] # the last three elements"
      ],
      "metadata": {
        "colab": {
          "base_uri": "https://localhost:8080/"
        },
        "id": "VgMfQDvi5quF",
        "outputId": "4a4ac202-d172-471d-82cf-d69aba80deae"
      },
      "execution_count": null,
      "outputs": [
        {
          "output_type": "execute_result",
          "data": {
            "text/plain": [
              "array([3, 4, 5])"
            ]
          },
          "metadata": {},
          "execution_count": 33
        }
      ]
    },
    {
      "cell_type": "markdown",
      "source": [
        "#### Index slicing works exactly the same way for multidimensional arrays:\n",
        "You may also use an array or list as an index:"
      ],
      "metadata": {
        "id": "xERDzU7Y5lg4"
      }
    },
    {
      "cell_type": "code",
      "source": [
        "A = np.array([[n+m*10 for n in range(5)] for m in range(5)])\n",
        "\n",
        "A   # a matrix"
      ],
      "metadata": {
        "colab": {
          "base_uri": "https://localhost:8080/"
        },
        "id": "rJ4A21OG6tvk",
        "outputId": "2477d422-7c9d-4c47-fe46-8abbcd34589e"
      },
      "execution_count": null,
      "outputs": [
        {
          "output_type": "execute_result",
          "data": {
            "text/plain": [
              "array([[ 0,  1,  2,  3,  4],\n",
              "       [10, 11, 12, 13, 14],\n",
              "       [20, 21, 22, 23, 24],\n",
              "       [30, 31, 32, 33, 34],\n",
              "       [40, 41, 42, 43, 44]])"
            ]
          },
          "metadata": {},
          "execution_count": 34
        }
      ]
    },
    {
      "cell_type": "code",
      "source": [
        "row_indices = [1, 2, 3]\n",
        "A[row_indices,:]"
      ],
      "metadata": {
        "colab": {
          "base_uri": "https://localhost:8080/"
        },
        "id": "jezwQZao6xGn",
        "outputId": "5c9fc9dc-f66c-4f02-edc2-8abbfa43780d"
      },
      "execution_count": null,
      "outputs": [
        {
          "output_type": "execute_result",
          "data": {
            "text/plain": [
              "array([[10, 11, 12, 13, 14],\n",
              "       [20, 21, 22, 23, 24],\n",
              "       [30, 31, 32, 33, 34]])"
            ]
          },
          "metadata": {},
          "execution_count": 35
        }
      ]
    },
    {
      "cell_type": "code",
      "source": [
        "col_indices = [1, 2, -1] # remember, index -1 means the last element\n",
        "A[:,col_indices]"
      ],
      "metadata": {
        "colab": {
          "base_uri": "https://localhost:8080/"
        },
        "id": "mbT-mkTv6zck",
        "outputId": "e0632671-dafc-48d3-b995-e95810d1f06f"
      },
      "execution_count": null,
      "outputs": [
        {
          "output_type": "execute_result",
          "data": {
            "text/plain": [
              "array([[ 1,  2,  4],\n",
              "       [11, 12, 14],\n",
              "       [21, 22, 24],\n",
              "       [31, 32, 34],\n",
              "       [41, 42, 44]])"
            ]
          },
          "metadata": {},
          "execution_count": 36
        }
      ]
    },
    {
      "cell_type": "code",
      "source": [
        "# a block from the original array\n",
        "A[1:4, 1:4]"
      ],
      "metadata": {
        "colab": {
          "base_uri": "https://localhost:8080/"
        },
        "id": "7Vs7Es1T64LK",
        "outputId": "a0e1afad-affc-4663-9fb1-173be4c70e12"
      },
      "execution_count": null,
      "outputs": [
        {
          "output_type": "execute_result",
          "data": {
            "text/plain": [
              "array([[11, 12, 13],\n",
              "       [21, 22, 23],\n",
              "       [31, 32, 33]])"
            ]
          },
          "metadata": {},
          "execution_count": 37
        }
      ]
    },
    {
      "cell_type": "markdown",
      "source": [
        "## 1.3 Array-oriented programming\n",
        "Vectorizing code is the key to writing code when handling big data. That means that as much as possible, a program should be written in terms of matrix (vector) operations."
      ],
      "metadata": {
        "id": "sQfzy0_K7OPP"
      }
    },
    {
      "cell_type": "markdown",
      "source": [
        "### 1.3.1 Scalar-array operations\n",
        "We can use the usual arithmetic operators to multiply, add, subtract, and divide arrays with scalar numbers."
      ],
      "metadata": {
        "id": "M6RQ51PS8Ctv"
      }
    },
    {
      "cell_type": "code",
      "source": [
        "v1 = np.arange(0, 5)\n",
        "v1"
      ],
      "metadata": {
        "colab": {
          "base_uri": "https://localhost:8080/"
        },
        "id": "8hvE1lv28dPO",
        "outputId": "341285e5-b839-4a9a-8c4f-b420bdd8b2cc"
      },
      "execution_count": null,
      "outputs": [
        {
          "output_type": "execute_result",
          "data": {
            "text/plain": [
              "array([0, 1, 2, 3, 4])"
            ]
          },
          "metadata": {},
          "execution_count": 38
        }
      ]
    },
    {
      "cell_type": "code",
      "source": [
        "v1 * 2"
      ],
      "metadata": {
        "colab": {
          "base_uri": "https://localhost:8080/"
        },
        "id": "sF4hl1Xz8gSg",
        "outputId": "554eabfb-10ae-4123-ccaf-6a13bc4e14f8"
      },
      "execution_count": null,
      "outputs": [
        {
          "output_type": "execute_result",
          "data": {
            "text/plain": [
              "array([0, 2, 4, 6, 8])"
            ]
          },
          "metadata": {},
          "execution_count": 39
        }
      ]
    },
    {
      "cell_type": "code",
      "source": [
        "v1 + 2"
      ],
      "metadata": {
        "colab": {
          "base_uri": "https://localhost:8080/"
        },
        "id": "6co8UfNC8itq",
        "outputId": "c544a90b-8b37-4588-ecc4-2eae16c2eb7d"
      },
      "execution_count": null,
      "outputs": [
        {
          "output_type": "execute_result",
          "data": {
            "text/plain": [
              "array([2, 3, 4, 5, 6])"
            ]
          },
          "metadata": {},
          "execution_count": 40
        }
      ]
    },
    {
      "cell_type": "markdown",
      "source": [
        "### 1.3.2 Element-wise array-array operations\n",
        "When we add, subtract, multiply and divide arrays with each other, the default behaviour is element-wise operations:"
      ],
      "metadata": {
        "id": "iXjUoUWF8Gar"
      }
    },
    {
      "cell_type": "code",
      "source": [
        "A"
      ],
      "metadata": {
        "colab": {
          "base_uri": "https://localhost:8080/"
        },
        "id": "EiybWkBV8mEv",
        "outputId": "5308fd23-58ff-4f67-8be2-142ef4cebe6d"
      },
      "execution_count": null,
      "outputs": [
        {
          "output_type": "execute_result",
          "data": {
            "text/plain": [
              "array([[ 0,  1,  2,  3,  4],\n",
              "       [10, 11, 12, 13, 14],\n",
              "       [20, 21, 22, 23, 24],\n",
              "       [30, 31, 32, 33, 34],\n",
              "       [40, 41, 42, 43, 44]])"
            ]
          },
          "metadata": {},
          "execution_count": 41
        }
      ]
    },
    {
      "cell_type": "code",
      "source": [
        "A * A # element-wise multiplication"
      ],
      "metadata": {
        "colab": {
          "base_uri": "https://localhost:8080/"
        },
        "id": "0g_srTpx8n0K",
        "outputId": "1b8e5e29-9e43-455c-b0a6-5a2022988e42"
      },
      "execution_count": null,
      "outputs": [
        {
          "output_type": "execute_result",
          "data": {
            "text/plain": [
              "array([[   0,    1,    4,    9,   16],\n",
              "       [ 100,  121,  144,  169,  196],\n",
              "       [ 400,  441,  484,  529,  576],\n",
              "       [ 900,  961, 1024, 1089, 1156],\n",
              "       [1600, 1681, 1764, 1849, 1936]])"
            ]
          },
          "metadata": {},
          "execution_count": 42
        }
      ]
    },
    {
      "cell_type": "markdown",
      "source": [
        "### 1.3.3 Matrix Algebra\n",
        "What about matrix mutiplication? We can use the dot function"
      ],
      "metadata": {
        "id": "XXt1vILu8Km2"
      }
    },
    {
      "cell_type": "code",
      "source": [
        "np.dot(A, A)"
      ],
      "metadata": {
        "colab": {
          "base_uri": "https://localhost:8080/"
        },
        "id": "FWO5mS6_-Hpd",
        "outputId": "91a71d50-4b8d-40c9-8f23-a351c4ac46bb"
      },
      "execution_count": null,
      "outputs": [
        {
          "output_type": "execute_result",
          "data": {
            "text/plain": [
              "array([[ 300,  310,  320,  330,  340],\n",
              "       [1300, 1360, 1420, 1480, 1540],\n",
              "       [2300, 2410, 2520, 2630, 2740],\n",
              "       [3300, 3460, 3620, 3780, 3940],\n",
              "       [4300, 4510, 4720, 4930, 5140]])"
            ]
          },
          "metadata": {},
          "execution_count": 43
        }
      ]
    },
    {
      "cell_type": "markdown",
      "source": [
        "### 1.3.4 Basic data analysis using numpy\n",
        "Often it is useful to store datasets in Numpy arrays (matrix). Numpy provides a number of functions to calculate statistics of datasets in arrays."
      ],
      "metadata": {
        "id": "C1QtlqZt8PU2"
      }
    },
    {
      "cell_type": "code",
      "source": [
        "A"
      ],
      "metadata": {
        "colab": {
          "base_uri": "https://localhost:8080/"
        },
        "id": "FSjvWjBG-YQa",
        "outputId": "43455e94-8dc5-415e-f465-0f57be66846c"
      },
      "execution_count": null,
      "outputs": [
        {
          "output_type": "execute_result",
          "data": {
            "text/plain": [
              "array([[ 0,  1,  2,  3,  4],\n",
              "       [10, 11, 12, 13, 14],\n",
              "       [20, 21, 22, 23, 24],\n",
              "       [30, 31, 32, 33, 34],\n",
              "       [40, 41, 42, 43, 44]])"
            ]
          },
          "metadata": {},
          "execution_count": 44
        }
      ]
    },
    {
      "cell_type": "code",
      "source": [
        "np.shape(A)"
      ],
      "metadata": {
        "colab": {
          "base_uri": "https://localhost:8080/"
        },
        "id": "G25zEeNW-YOz",
        "outputId": "84a9a31e-9dbf-4f9a-e608-966e6c457984"
      },
      "execution_count": null,
      "outputs": [
        {
          "output_type": "execute_result",
          "data": {
            "text/plain": [
              "(5, 5)"
            ]
          },
          "metadata": {},
          "execution_count": 45
        }
      ]
    },
    {
      "cell_type": "markdown",
      "source": [
        "#### 1.3.4.1 mean\n"
      ],
      "metadata": {
        "id": "9wrAtWPM-iTU"
      }
    },
    {
      "cell_type": "code",
      "source": [
        "np.mean(A[:,3])"
      ],
      "metadata": {
        "colab": {
          "base_uri": "https://localhost:8080/"
        },
        "id": "W8HbqS4P-kdR",
        "outputId": "71049e79-4ad3-4742-edc4-5142ea13e3cd"
      },
      "execution_count": null,
      "outputs": [
        {
          "output_type": "execute_result",
          "data": {
            "text/plain": [
              "23.0"
            ]
          },
          "metadata": {},
          "execution_count": 46
        }
      ]
    },
    {
      "cell_type": "markdown",
      "source": [
        "#### 1.3.4.2 standard deviations and variance, min and max"
      ],
      "metadata": {
        "id": "0ZD_licU-uFR"
      }
    },
    {
      "cell_type": "code",
      "source": [
        "np.std(A[:, 3]), np.var(A[:, 3])"
      ],
      "metadata": {
        "colab": {
          "base_uri": "https://localhost:8080/"
        },
        "id": "tai29BL8-vr2",
        "outputId": "821d4249-92f1-48bd-dab8-720852756ada"
      },
      "execution_count": null,
      "outputs": [
        {
          "output_type": "execute_result",
          "data": {
            "text/plain": [
              "(14.142135623730951, 200.0)"
            ]
          },
          "metadata": {},
          "execution_count": 47
        }
      ]
    },
    {
      "cell_type": "code",
      "source": [
        "# lowest value\n",
        "A[:, 3].min()"
      ],
      "metadata": {
        "colab": {
          "base_uri": "https://localhost:8080/"
        },
        "id": "7taYYSwr-y5h",
        "outputId": "a67fe6f0-541f-4306-8bf0-66f57ae59636"
      },
      "execution_count": null,
      "outputs": [
        {
          "output_type": "execute_result",
          "data": {
            "text/plain": [
              "3"
            ]
          },
          "metadata": {},
          "execution_count": 48
        }
      ]
    },
    {
      "cell_type": "code",
      "source": [
        "# highest value\n",
        "A[:, 3].max()"
      ],
      "metadata": {
        "colab": {
          "base_uri": "https://localhost:8080/"
        },
        "id": "BhLhzQhQ-0vu",
        "outputId": "5d915111-092b-45ce-ebdc-78c700e53e49"
      },
      "execution_count": null,
      "outputs": [
        {
          "output_type": "execute_result",
          "data": {
            "text/plain": [
              "43"
            ]
          },
          "metadata": {},
          "execution_count": 49
        }
      ]
    },
    {
      "cell_type": "markdown",
      "source": [
        "#### 1.3.4.3 sum, prod"
      ],
      "metadata": {
        "id": "3Ab0XnG6-1_Z"
      }
    },
    {
      "cell_type": "code",
      "source": [
        "# sum up all elements\n",
        "np.sum(A[:, 3])"
      ],
      "metadata": {
        "colab": {
          "base_uri": "https://localhost:8080/"
        },
        "id": "3iL5IdrX-4Ni",
        "outputId": "ce030221-e79e-46f0-a4c6-60a688aa57b6"
      },
      "execution_count": null,
      "outputs": [
        {
          "output_type": "execute_result",
          "data": {
            "text/plain": [
              "115"
            ]
          },
          "metadata": {},
          "execution_count": 50
        }
      ]
    },
    {
      "cell_type": "code",
      "source": [
        "# product of all elements\n",
        "np.prod(A[:, 3])"
      ],
      "metadata": {
        "colab": {
          "base_uri": "https://localhost:8080/"
        },
        "id": "W70klv2N-74X",
        "outputId": "687fadd8-4ef6-49f2-c1ce-99dab515f39e"
      },
      "execution_count": null,
      "outputs": [
        {
          "output_type": "execute_result",
          "data": {
            "text/plain": [
              "1272843"
            ]
          },
          "metadata": {},
          "execution_count": 51
        }
      ]
    },
    {
      "cell_type": "markdown",
      "source": [
        "### 1.3.5 Perform functions on entire matrix?\n",
        "It is sometimes useful to apply the calculation to the entire array, and sometimes only on a row or column basis. Using the axis argument we can specify how these functions should behave:"
      ],
      "metadata": {
        "id": "wSduAywO8U5h"
      }
    },
    {
      "cell_type": "code",
      "source": [
        "from numpy import random\n",
        "\n",
        "m = random.rand(3, 3)\n",
        "m"
      ],
      "metadata": {
        "colab": {
          "base_uri": "https://localhost:8080/"
        },
        "id": "Vl7U4gT4_CQF",
        "outputId": "a6a4c452-548d-4acc-8540-4d510ab5d549"
      },
      "execution_count": null,
      "outputs": [
        {
          "output_type": "execute_result",
          "data": {
            "text/plain": [
              "array([[0.33787842, 0.01603152, 0.06257806],\n",
              "       [0.62208378, 0.77155019, 0.24994344],\n",
              "       [0.21081685, 0.74492187, 0.10624865]])"
            ]
          },
          "metadata": {},
          "execution_count": 52
        }
      ]
    },
    {
      "cell_type": "code",
      "source": [
        "# global max\n",
        "m.max()"
      ],
      "metadata": {
        "colab": {
          "base_uri": "https://localhost:8080/"
        },
        "id": "ci0OuSjw_FyE",
        "outputId": "6293404e-9afe-4af8-9ef6-f66eab42a2da"
      },
      "execution_count": null,
      "outputs": [
        {
          "output_type": "execute_result",
          "data": {
            "text/plain": [
              "0.7715501942560987"
            ]
          },
          "metadata": {},
          "execution_count": 53
        }
      ]
    },
    {
      "cell_type": "code",
      "source": [
        "# max in each column\n",
        "m.max(axis=0)"
      ],
      "metadata": {
        "colab": {
          "base_uri": "https://localhost:8080/"
        },
        "id": "sRH48njN_IPZ",
        "outputId": "9fe4298a-e2d5-488d-e665-ff09308972d5"
      },
      "execution_count": null,
      "outputs": [
        {
          "output_type": "execute_result",
          "data": {
            "text/plain": [
              "array([0.62208378, 0.77155019, 0.24994344])"
            ]
          },
          "metadata": {},
          "execution_count": 54
        }
      ]
    },
    {
      "cell_type": "code",
      "source": [
        "# max in each row\n",
        "m.max(axis=1)"
      ],
      "metadata": {
        "colab": {
          "base_uri": "https://localhost:8080/"
        },
        "id": "YrO0-Wzk_INc",
        "outputId": "2526d347-dba0-4840-881a-9d87f4889cc9"
      },
      "execution_count": null,
      "outputs": [
        {
          "output_type": "execute_result",
          "data": {
            "text/plain": [
              "array([0.33787842, 0.77155019, 0.74492187])"
            ]
          },
          "metadata": {},
          "execution_count": 55
        }
      ]
    },
    {
      "cell_type": "markdown",
      "source": [
        "Many other functions and methods in the array and matrix classes accept the same (optional) axis keyword argument."
      ],
      "metadata": {
        "id": "7nwvguTv_L3x"
      }
    },
    {
      "cell_type": "markdown",
      "source": [
        "## 1.4 Reshaping, resizing, and stacking arrays\n",
        "The shape of an Numpy array can be modified without copying the underlaying data, which makes it a fast operation even for large arrays."
      ],
      "metadata": {
        "id": "8eHjYoIB7anv"
      }
    },
    {
      "cell_type": "code",
      "source": [
        "A"
      ],
      "metadata": {
        "colab": {
          "base_uri": "https://localhost:8080/"
        },
        "id": "86XnvWAc_Rgo",
        "outputId": "a03cfed7-b970-43fe-9841-0981258ea5aa"
      },
      "execution_count": null,
      "outputs": [
        {
          "output_type": "execute_result",
          "data": {
            "text/plain": [
              "array([[ 0,  1,  2,  3,  4],\n",
              "       [10, 11, 12, 13, 14],\n",
              "       [20, 21, 22, 23, 24],\n",
              "       [30, 31, 32, 33, 34],\n",
              "       [40, 41, 42, 43, 44]])"
            ]
          },
          "metadata": {},
          "execution_count": 56
        }
      ]
    },
    {
      "cell_type": "code",
      "source": [
        "n, m = A.shape\n",
        "n, m"
      ],
      "metadata": {
        "colab": {
          "base_uri": "https://localhost:8080/"
        },
        "id": "3cZ2OZRl_TCj",
        "outputId": "09b5e43d-62c4-4658-9a79-06a0d588e985"
      },
      "execution_count": null,
      "outputs": [
        {
          "output_type": "execute_result",
          "data": {
            "text/plain": [
              "(5, 5)"
            ]
          },
          "metadata": {},
          "execution_count": 57
        }
      ]
    },
    {
      "cell_type": "code",
      "source": [
        "B = A.reshape((1, n*m))\n",
        "n, m #equivalent to print(n,m)"
      ],
      "metadata": {
        "colab": {
          "base_uri": "https://localhost:8080/"
        },
        "id": "slyVxbjd_Yjm",
        "outputId": "ba15ac16-f54f-43a1-9048-9ea97f919f69"
      },
      "execution_count": null,
      "outputs": [
        {
          "output_type": "execute_result",
          "data": {
            "text/plain": [
              "(5, 5)"
            ]
          },
          "metadata": {},
          "execution_count": 58
        }
      ]
    },
    {
      "cell_type": "markdown",
      "source": [
        "We can also use the function `flatten` to make a higher-dimensional array into a vector. But this function create a seperate copy of the underlying data."
      ],
      "metadata": {
        "id": "T67QFBSy_rru"
      }
    },
    {
      "cell_type": "code",
      "source": [
        "B = A.flatten()  # because B's data is a seperate copy of A's,\n",
        "B"
      ],
      "metadata": {
        "colab": {
          "base_uri": "https://localhost:8080/"
        },
        "id": "_qpFWSmX_g87",
        "outputId": "65bed84f-77fb-4e21-cfe7-be5005fe2207"
      },
      "execution_count": null,
      "outputs": [
        {
          "output_type": "execute_result",
          "data": {
            "text/plain": [
              "array([ 0,  1,  2,  3,  4, 10, 11, 12, 13, 14, 20, 21, 22, 23, 24, 30, 31,\n",
              "       32, 33, 34, 40, 41, 42, 43, 44])"
            ]
          },
          "metadata": {},
          "execution_count": 59
        }
      ]
    },
    {
      "cell_type": "markdown",
      "source": [
        "## 1.5 Type Casting\n",
        "Since Numpy arrays are statically typed, the type of an array does not change once created. But we can explicitly cast an array of some type to another using the astype functions. This always create a new array of new type:"
      ],
      "metadata": {
        "id": "YcuQyTbR7pnd"
      }
    },
    {
      "cell_type": "code",
      "source": [
        "M = np.array([[1, 2], [3, 4]])\n",
        "\n",
        "M"
      ],
      "metadata": {
        "colab": {
          "base_uri": "https://localhost:8080/"
        },
        "id": "yMfokA7j_yUH",
        "outputId": "a229193f-c4c3-4406-c206-9617f699873c"
      },
      "execution_count": null,
      "outputs": [
        {
          "output_type": "execute_result",
          "data": {
            "text/plain": [
              "array([[1, 2],\n",
              "       [3, 4]])"
            ]
          },
          "metadata": {},
          "execution_count": 60
        }
      ]
    },
    {
      "cell_type": "code",
      "source": [
        "M.dtype"
      ],
      "metadata": {
        "colab": {
          "base_uri": "https://localhost:8080/"
        },
        "id": "lH1Aq36d_10B",
        "outputId": "5a16a34e-f356-4c17-ddc8-03781159fb0d"
      },
      "execution_count": null,
      "outputs": [
        {
          "output_type": "execute_result",
          "data": {
            "text/plain": [
              "dtype('int64')"
            ]
          },
          "metadata": {},
          "execution_count": 61
        }
      ]
    },
    {
      "cell_type": "code",
      "source": [
        "M2 = M.astype('float64')\n",
        "\n",
        "M2"
      ],
      "metadata": {
        "colab": {
          "base_uri": "https://localhost:8080/"
        },
        "id": "LMOCfzrJ_33O",
        "outputId": "e76c4de6-a182-4158-826d-c8652b02e291"
      },
      "execution_count": null,
      "outputs": [
        {
          "output_type": "execute_result",
          "data": {
            "text/plain": [
              "array([[1., 2.],\n",
              "       [3., 4.]])"
            ]
          },
          "metadata": {},
          "execution_count": 62
        }
      ]
    },
    {
      "cell_type": "code",
      "source": [
        "M2.dtype"
      ],
      "metadata": {
        "colab": {
          "base_uri": "https://localhost:8080/"
        },
        "id": "hcc06U22_31Q",
        "outputId": "9a45ef9c-e2bc-458b-8f6c-bc9ee0bfbf05"
      },
      "execution_count": null,
      "outputs": [
        {
          "output_type": "execute_result",
          "data": {
            "text/plain": [
              "dtype('float64')"
            ]
          },
          "metadata": {},
          "execution_count": 63
        }
      ]
    },
    {
      "cell_type": "code",
      "source": [
        "M3 = M.astype(bool)\n",
        "\n",
        "M3"
      ],
      "metadata": {
        "colab": {
          "base_uri": "https://localhost:8080/"
        },
        "id": "m2T-jDY4_9co",
        "outputId": "45cbd9be-e9b9-418f-ab5b-3ec645d2d491"
      },
      "execution_count": null,
      "outputs": [
        {
          "output_type": "execute_result",
          "data": {
            "text/plain": [
              "array([[ True,  True],\n",
              "       [ True,  True]])"
            ]
          },
          "metadata": {},
          "execution_count": 64
        }
      ]
    },
    {
      "cell_type": "markdown",
      "source": [
        "##2. Scipy: a library for scientific computing\n",
        "It provides many user-friendly and efficient numerical routines such as stats, numerical integration and optimization."
      ],
      "metadata": {
        "id": "mNZCOGDr7urP"
      }
    },
    {
      "cell_type": "code",
      "source": [
        "import numpy as np\n",
        "import scipy.spatial.distance as sp_dist\n",
        "\n",
        "\n",
        "x = np.random.randint(0, 2, size = 20)      # Return random integers from low (inclusive) to high (exclusive).\n",
        "y = np.random.randint(0, 2, size = 20)\n",
        "\n",
        "print (x)\n",
        "print (y)\n",
        "print (sp_dist.cosine(x,y))\n",
        "print (sp_dist.euclidean(x,y))\n",
        "print (sp_dist.jaccard(x,y))\n",
        "print (sp_dist.hamming(x,y))"
      ],
      "metadata": {
        "colab": {
          "base_uri": "https://localhost:8080/"
        },
        "id": "JcWtNDKlAG-t",
        "outputId": "7d0f00d4-3b72-482e-9c74-9e9171bf13a4"
      },
      "execution_count": null,
      "outputs": [
        {
          "output_type": "stream",
          "name": "stdout",
          "text": [
            "[1 1 1 0 0 0 1 1 1 1 1 0 0 1 1 0 1 0 1 1]\n",
            "[0 0 0 0 1 0 0 1 0 0 1 1 1 0 1 0 1 1 0 1]\n",
            "0.5377498364789758\n",
            "3.4641016151377544\n",
            "0.7058823529411765\n",
            "0.6\n"
          ]
        }
      ]
    },
    {
      "cell_type": "code",
      "source": [
        "from scipy.stats import linregress\n",
        "\n",
        "a = [15, 12, 8, 8, 7, 7, 7, 6, 5, 3]\n",
        "b = [10, 25, 17, 11, 13, 17, 20, 13, 9, 15]\n",
        "\n",
        "linregress(a, b)"
      ],
      "metadata": {
        "colab": {
          "base_uri": "https://localhost:8080/"
        },
        "id": "IDEQUDkDAKgr",
        "outputId": "3bdce210-0290-454a-e1f1-e130efefb17e"
      },
      "execution_count": null,
      "outputs": [
        {
          "output_type": "execute_result",
          "data": {
            "text/plain": [
              "LinregressResult(slope=0.20833333333333331, intercept=13.375, rvalue=0.14499815458068518, pvalue=0.689401448116695, stderr=0.5026170462708364, intercept_stderr=4.247039688703678)"
            ]
          },
          "metadata": {},
          "execution_count": 66
        }
      ]
    },
    {
      "cell_type": "markdown",
      "source": [
        "## 3. Matplotlib\n",
        "####  (1) Use a magic command to enable figures in notebook!!!\n",
        "%matplotlib inline    \n",
        "\n",
        "####  (2) Import\n",
        "import matplotlib.pyplot as plt"
      ],
      "metadata": {
        "id": "s4188nZFAMah"
      }
    },
    {
      "cell_type": "code",
      "source": [
        "# A magic command to enable matplotlib figures in notebook!!!\n",
        "%matplotlib inline\n",
        "\n",
        "# import\n",
        "import matplotlib.pyplot as plt\n",
        "import numpy as np\n",
        "\n",
        "\n",
        "# create an empty figure\n",
        "\n",
        "fig = plt.figure()  # an empty figure\n",
        "\n",
        "plt.figure(figsize=(20,5))  # optional\n",
        "\n",
        "x = np.linspace(0, 2, 100)\n",
        "\n",
        "plt.plot(x, x, label='linear')\n",
        "plt.plot(x, x**2, label='quadratic')\n",
        "plt.plot(x, x**3, label='cubic')\n",
        "\n",
        "plt.xlabel('x label')\n",
        "plt.ylabel('y label')\n",
        "\n",
        "plt.title(\"Simple Plot\")\n",
        "\n",
        "plt.legend()\n",
        "\n",
        "plt.show()"
      ],
      "metadata": {
        "colab": {
          "base_uri": "https://localhost:8080/",
          "height": 371
        },
        "id": "MgZIahuqAUC7",
        "outputId": "f0a3de0b-2a21-4704-9fb9-ad967c94175f"
      },
      "execution_count": null,
      "outputs": [
        {
          "output_type": "display_data",
          "data": {
            "text/plain": [
              "<Figure size 640x480 with 0 Axes>"
            ]
          },
          "metadata": {}
        },
        {
          "output_type": "display_data",
          "data": {
            "text/plain": [
              "<Figure size 2000x500 with 1 Axes>"
            ],
            "image/png": "[encoded data removed]"
          },
          "metadata": {}
        }
      ]
    },
    {
      "cell_type": "markdown",
      "source": [
        "### 3.1 Generate random data"
      ],
      "metadata": {
        "id": "DzuioMUlAY62"
      }
    },
    {
      "cell_type": "code",
      "source": [
        "from numpy import random"
      ],
      "metadata": {
        "id": "3hl0DepHAfYS"
      },
      "execution_count": null,
      "outputs": []
    },
    {
      "cell_type": "code",
      "source": [
        "# uniform random numbers in [0,1]\n",
        "random.rand(5,5)"
      ],
      "metadata": {
        "colab": {
          "base_uri": "https://localhost:8080/"
        },
        "id": "yGDR9MwWAiw4",
        "outputId": "e1d7195c-6960-439e-fc2f-842893f00be7"
      },
      "execution_count": null,
      "outputs": [
        {
          "output_type": "execute_result",
          "data": {
            "text/plain": [
              "array([[0.21779839, 0.99042734, 0.1410351 , 0.26749412, 0.92637915],\n",
              "       [0.0891626 , 0.22434607, 0.9647488 , 0.22178084, 0.48546748],\n",
              "       [0.08778397, 0.71561336, 0.23334816, 0.72061335, 0.2076039 ],\n",
              "       [0.15666577, 0.77764714, 0.08220465, 0.85413171, 0.27212354],\n",
              "       [0.1260705 , 0.50823518, 0.81755843, 0.53658133, 0.96615137]])"
            ]
          },
          "metadata": {},
          "execution_count": 69
        }
      ]
    },
    {
      "cell_type": "code",
      "source": [
        "# standard normal distributed random numbers\n",
        "random.randn(5,5)"
      ],
      "metadata": {
        "colab": {
          "base_uri": "https://localhost:8080/"
        },
        "id": "gT5p1BRzAkmC",
        "outputId": "31b3d89d-83e8-46b3-a3a5-2db71d1ccd5c"
      },
      "execution_count": null,
      "outputs": [
        {
          "output_type": "execute_result",
          "data": {
            "text/plain": [
              "array([[ 0.35074063,  0.85278044,  0.88234365, -0.22385223, -1.59818668],\n",
              "       [ 1.443753  , -1.0177503 , -0.02210987, -0.15248325,  1.20429491],\n",
              "       [ 4.09487894,  0.72669124, -0.90859358, -0.03940659,  0.74937071],\n",
              "       [ 0.93230161,  1.40421163, -0.240574  ,  2.62796117,  2.91342411],\n",
              "       [ 0.83903746, -0.35654691,  0.72623939, -1.30300678, -1.10728142]])"
            ]
          },
          "metadata": {},
          "execution_count": 70
        }
      ]
    },
    {
      "cell_type": "code",
      "source": [
        "x = random.randn(10000)\n",
        "plt.hist(x)\n",
        "plt.show()"
      ],
      "metadata": {
        "colab": {
          "base_uri": "https://localhost:8080/",
          "height": 430
        },
        "id": "F8RlTqINAmdS",
        "outputId": "1cc4f1f3-cabb-4618-9c16-ea36b9205f79"
      },
      "execution_count": null,
      "outputs": [
        {
          "output_type": "display_data",
          "data": {
            "text/plain": [
              "<Figure size 640x480 with 1 Axes>"
            ],
            "image/png": "[encoded data removed]"
          },
          "metadata": {}
        }
      ]
    },
    {
      "cell_type": "code",
      "source": [
        "np.random.randint(0, 2, size=10)   # Return random integers from low (inclusive) to high (exclusive)"
      ],
      "metadata": {
        "colab": {
          "base_uri": "https://localhost:8080/"
        },
        "id": "sJY9rOAyAovm",
        "outputId": "68552e8a-d754-4cbe-9041-9a00ed87ca0d"
      },
      "execution_count": null,
      "outputs": [
        {
          "output_type": "execute_result",
          "data": {
            "text/plain": [
              "array([1, 1, 1, 1, 0, 0, 1, 0, 0, 0])"
            ]
          },
          "metadata": {},
          "execution_count": 72
        }
      ]
    },
    {
      "cell_type": "code",
      "source": [
        "np.random.randint(0, 5, size=(2, 4))   # Return random integers from low (inclusive) to high (exclusive)"
      ],
      "metadata": {
        "colab": {
          "base_uri": "https://localhost:8080/"
        },
        "id": "v9S_5py9Aq_b",
        "outputId": "b648f81d-96ae-4ebc-fa01-832ae241ca97"
      },
      "execution_count": null,
      "outputs": [
        {
          "output_type": "execute_result",
          "data": {
            "text/plain": [
              "array([[0, 3, 2, 2],\n",
              "       [1, 3, 0, 2]])"
            ]
          },
          "metadata": {},
          "execution_count": 73
        }
      ]
    }
  ]
}